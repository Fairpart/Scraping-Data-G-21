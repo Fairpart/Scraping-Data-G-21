{
 "cells": [
  {
   "cell_type": "markdown",
   "id": "d46c5ff9-5167-4cbb-a160-22fad60e99b8",
   "metadata": {},
   "source": [
    "# Scraping ข้อมูลรายชื่อโครงการคอนโดมิเนี่ยมจาก เว็บ checkraka.com และ รายละเอียดเบื้องต้น"
   ]
  },
  {
   "cell_type": "code",
   "execution_count": 35,
   "id": "916ff463-da6c-4d69-bdfd-526e741a3851",
   "metadata": {},
   "outputs": [],
   "source": [
    "#Import necessary library \n",
    "from bs4 import BeautifulSoup\n",
    "import requests\n",
    "import pandas as pd"
   ]
  },
  {
   "cell_type": "code",
   "execution_count": 36,
   "id": "c03ce7e7-ec32-48dc-8dce-02afadbd2ca5",
   "metadata": {},
   "outputs": [],
   "source": [
    "# Use List\n",
    "price_list = list()\n",
    "data_list = list()\n",
    "name_condo = list()\n",
    "developer_list = list()\n",
    "near_BTS_station_list = list()\n",
    "room_available_type_list = list()\n",
    "room_available_size_list = list()\n",
    "near_transits = list()\n",
    "located_list = list()\n",
    "new_located_list = list()\n",
    "cut = ['Google','$(function()','|']\n",
    "url_no = 1"
   ]
  },
  {
   "cell_type": "code",
   "execution_count": 37,
   "id": "2a4b6d07-45fc-4a6a-82d2-95a582690653",
   "metadata": {},
   "outputs": [
    {
     "name": "stdout",
     "output_type": "stream",
     "text": [
      "Import Successful\n",
      "Import Successful\n"
     ]
    },
    {
     "data": {
      "text/html": [
       "<div>\n",
       "<style scoped>\n",
       "    .dataframe tbody tr th:only-of-type {\n",
       "        vertical-align: middle;\n",
       "    }\n",
       "\n",
       "    .dataframe tbody tr th {\n",
       "        vertical-align: top;\n",
       "    }\n",
       "\n",
       "    .dataframe thead th {\n",
       "        text-align: right;\n",
       "    }\n",
       "</style>\n",
       "<table border=\"1\" class=\"dataframe\">\n",
       "  <thead>\n",
       "    <tr style=\"text-align: right;\">\n",
       "      <th></th>\n",
       "      <th>Condo_Name</th>\n",
       "      <th>Condo_Initial_Price</th>\n",
       "      <th>Condo_Developer</th>\n",
       "      <th>Nearby_BTS_Station</th>\n",
       "      <th>Room_Type</th>\n",
       "      <th>Room_Size</th>\n",
       "      <th>Nearby_Transits</th>\n",
       "      <th>Location</th>\n",
       "    </tr>\n",
       "  </thead>\n",
       "  <tbody>\n",
       "    <tr>\n",
       "      <th>0</th>\n",
       "      <td>คอนโด นิว อีโว อารีย์ (Nue Evo Ari)</td>\n",
       "      <td>เริ่มต้น 3.9 ลบ. (ณ. วันเปิดตัว)</td>\n",
       "      <td>โนเบิล</td>\n",
       "      <td>คอนโดโนเบิล ใกล้รถไฟฟ้า</td>\n",
       "      <td>1ห้องนอน,2ห้องนอน</td>\n",
       "      <td>ตั้งแต่30.20ถึง56.10ตร.ม.</td>\n",
       "      <td>ใกล้รถไฟฟ้า,คอนโดติดรถไฟฟ้าสายสีเขียวเข้มหมอชิ...</td>\n",
       "      <td>ซอย อารีย์ 1 แขวง สามเสนใน เขตพญาไท กรุงเทพมหา...</td>\n",
       "    </tr>\n",
       "    <tr>\n",
       "      <th>1</th>\n",
       "      <td>คอนโด เดอะ มูฟ ประดิพัทธ์ (The Muve Pradipat)</td>\n",
       "      <td>เริ่มต้น 2.19 ลบ. (ณ. วันเปิดตัว)</td>\n",
       "      <td>แสนสิริ|เดอะมูฟ</td>\n",
       "      <td>คอนโดแสนสิริ ใกล้รถไฟฟ้า</td>\n",
       "      <td>1ห้องนอน,2ห้องนอน,อื่นๆ</td>\n",
       "      <td>ตั้งแต่22.00ถึง49.75ตร.ม.</td>\n",
       "      <td>ใกล้รถไฟฟ้า,คอนโดติดรถไฟฟ้าสายสีเขียวเข้มหมอชิ...</td>\n",
       "      <td>ซอยประดิพัทธ์ 23 แขวงสามเสนใน เขตพญาไท กทม. 10400</td>\n",
       "    </tr>\n",
       "    <tr>\n",
       "      <th>2</th>\n",
       "      <td>คอนโด เมย์แฟร์ เพลส วิคทอรี่ โมนูเมนต์ (Mayfai...</td>\n",
       "      <td>เริ่มต้น 3.9 ลบ. (ณ. วันเปิดตัว)</td>\n",
       "      <td>พีทีเอฟเรียลตี้</td>\n",
       "      <td>คอนโดพีทีเอฟ เรียลตี้ ใกล้รถไฟฟ้า</td>\n",
       "      <td>1ห้องนอน,2ห้องนอน,Penthouse</td>\n",
       "      <td>ตั้งแต่33.40ถึง131.50ตร.ม.</td>\n",
       "      <td>ใกล้รถไฟฟ้า,คอนโดติดรถไฟฟ้าสายสีเขียวเข้มหมอชิ...</td>\n",
       "      <td>ถนนวิภาวดีรังสิต แขวงสามเสนใน เขตพญาไท กรุงเทพ...</td>\n",
       "    </tr>\n",
       "    <tr>\n",
       "      <th>3</th>\n",
       "      <td>คอนโด ซิลค์ พหลโยธิน-อารีย์ 2 (SILK PHAHOLYOTH...</td>\n",
       "      <td>3.2 - 9.45 ลบ. (ณ. วันเปิดตัว)</td>\n",
       "      <td>เคเอสเอเอสดีเวลอปเม้นท์</td>\n",
       "      <td>คอนโดเคเอสเอเอส ดีเวลอปเม้นท์ ใกล้รถไฟฟ้า</td>\n",
       "      <td>1ห้องนอน,2ห้องนอน,Penthouse</td>\n",
       "      <td>ตั้งแต่45.00ถึง80.00ตร.ม.</td>\n",
       "      <td>ใกล้รถไฟฟ้า,คอนโดติดรถไฟฟ้าสายสีเขียวเข้มหมอชิ...</td>\n",
       "      <td>ซอย พหลโยธิน 7 (อารีย์ 2) ถนน พหลโยธิน แขวง สา...</td>\n",
       "    </tr>\n",
       "    <tr>\n",
       "      <th>4</th>\n",
       "      <td>คอนโด เดอะทรี อนุสาวรีย์ (The Tree Victory Mon...</td>\n",
       "      <td>เริ่มต้น 4.19 ลบ. (ณ. วันที่ 17/1/2022)</td>\n",
       "      <td>พฤกษา|เดอะทรี</td>\n",
       "      <td>คอนโดพฤกษา ใกล้รถไฟฟ้า</td>\n",
       "      <td>1ห้องนอน</td>\n",
       "      <td>โปรดสอบถามข้อมูลกับทางโครงการ</td>\n",
       "      <td>ใกล้รถไฟฟ้า,คอนโดติดรถไฟฟ้าสายสีเขียวเข้มหมอชิ...</td>\n",
       "      <td>ถนนดินแดง แขวงสามเสนใน เขตพญาไท กรุงเทพมหานคร ...</td>\n",
       "    </tr>\n",
       "    <tr>\n",
       "      <th>...</th>\n",
       "      <td>...</td>\n",
       "      <td>...</td>\n",
       "      <td>...</td>\n",
       "      <td>...</td>\n",
       "      <td>...</td>\n",
       "      <td>...</td>\n",
       "      <td>...</td>\n",
       "      <td>...</td>\n",
       "    </tr>\n",
       "    <tr>\n",
       "      <th>59</th>\n",
       "      <td>คอนโด โนเบิล รีเวนต์ (Noble Revent)</td>\n",
       "      <td>เริ่มต้น 9.2 ลบ. (ณ. วันที่ 26/5/2020)</td>\n",
       "      <td>โนเบิล|โนเบิลรีเวนต์</td>\n",
       "      <td>คอนโดโนเบิล ใกล้รถไฟฟ้า</td>\n",
       "      <td>สตูดิโอ,1ห้องนอน,2ห้องนอน</td>\n",
       "      <td>ตั้งแต่32.66ถึง66.70ตร.ม.</td>\n",
       "      <td>ใกล้รถไฟฟ้า,คอนโดติดรถไฟฟ้าสายสีเขียวเข้มหมอชิ...</td>\n",
       "      <td>ถนนศรีอยุธยา แขวงถนนพญาไท เขตราชเทวี กรุงเทพฯ</td>\n",
       "    </tr>\n",
       "    <tr>\n",
       "      <th>60</th>\n",
       "      <td>คอนโด เอ็ม พญาไท (M Phyathai)</td>\n",
       "      <td>เริ่มต้น 7.9 ลบ. (ณ. วันที่ 8/9/2014)</td>\n",
       "      <td>เมเจอร์|มาเอสโตร</td>\n",
       "      <td>คอนโดเมเจอร์ ใกล้รถไฟฟ้า</td>\n",
       "      <td>1ห้องนอน,2ห้องนอน,Penthouse</td>\n",
       "      <td>ตั้งแต่42.00ถึง110.00ตร.ม.</td>\n",
       "      <td>ใกล้รถไฟฟ้า,คอนโดติดรถไฟฟ้าสายสีเขียวเข้มหมอชิ...</td>\n",
       "      <td>ถนนพญาไท แขวงพญาไท เขตราชเทวี กรุงเทพฯ</td>\n",
       "    </tr>\n",
       "    <tr>\n",
       "      <th>61</th>\n",
       "      <td>คอนโด ชีวาทัย ราชปรารภ (Chewathai Ratchaprarop)</td>\n",
       "      <td>เริ่มต้น 3.5 ลบ. (ณ. วันที่ 29/5/2013)</td>\n",
       "      <td>ชีวาทัย|ชีวาทัย</td>\n",
       "      <td>คอนโดชีวาทัย ใกล้รถไฟฟ้า</td>\n",
       "      <td>1ห้องนอน,2ห้องนอน,3ห้องนอน</td>\n",
       "      <td>ตั้งแต่34.11ถึง72.10ตร.ม.</td>\n",
       "      <td>ใกล้รถไฟฟ้า,คอนโดติดรถไฟฟ้าสายสีเขียวเข้มหมอชิ...</td>\n",
       "      <td>ถนนราชปรารภ แขวงมักกะสัน เขตราชเทวี กรุงเทพมหานคร</td>\n",
       "    </tr>\n",
       "    <tr>\n",
       "      <th>62</th>\n",
       "      <td>คอนโด เซอร์เคิล 1 (Circle 1)</td>\n",
       "      <td>เริ่มต้น 3.5 ล้านกว่าบาท (ณ. วันที่ 29/3/2019)</td>\n",
       "      <td>เฟรเกรนท์พร็อพเพอร์ตี้(ในเครือเฟรเกรนท์กรุ๊ป)</td>\n",
       "      <td>คอนโดเฟรเกรนท์ พร็อพเพอร์ตี้ ใกล้รถไฟฟ้า</td>\n",
       "      <td>สตูดิโอ,1ห้องนอน,2ห้องนอน,3ห้องนอน</td>\n",
       "      <td>ตั้งแต่32.28ถึง126.23ตร.ม.</td>\n",
       "      <td>ใกล้ทางด่วน(ทางด่วนเพชรบุรี),ใกล้รถไฟฟ้า,คอนโด...</td>\n",
       "      <td>ถนนเพชรบุรีตัดใหม่ (ซอยเพชรบุรี 36) มักกะสัน ร...</td>\n",
       "    </tr>\n",
       "    <tr>\n",
       "      <th>63</th>\n",
       "      <td>คอนโด เดอะ คอมพลีท ราชปรารภ (The Complete Ratc...</td>\n",
       "      <td>เริ่มต้น 7.7 ลบ. (ณ. วันที่ 12/9/2014)</td>\n",
       "      <td>ปริญสิริ|เดอะคอมพลีท</td>\n",
       "      <td>คอนโดปริญสิริ ใกล้รถไฟฟ้า</td>\n",
       "      <td>1ห้องนอน,2ห้องนอน,3ห้องนอน</td>\n",
       "      <td>ตั้งแต่35.54ถึง185.74ตร.ม.</td>\n",
       "      <td>ใกล้รถไฟฟ้า,คอนโดติดรถไฟฟ้าสายสีเขียวเข้มหมอชิ...</td>\n",
       "      <td>ถนนราชปรารภ แขวงมักกะสัน เขตราชเทวี กรุงเทพมหานคร</td>\n",
       "    </tr>\n",
       "  </tbody>\n",
       "</table>\n",
       "<p>64 rows × 8 columns</p>\n",
       "</div>"
      ],
      "text/plain": [
       "                                           Condo_Name  \\\n",
       "0                คอนโด นิว อีโว อารีย์ (Nue Evo Ari)    \n",
       "1      คอนโด เดอะ มูฟ ประดิพัทธ์ (The Muve Pradipat)    \n",
       "2   คอนโด เมย์แฟร์ เพลส วิคทอรี่ โมนูเมนต์ (Mayfai...   \n",
       "3   คอนโด ซิลค์ พหลโยธิน-อารีย์ 2 (SILK PHAHOLYOTH...   \n",
       "4   คอนโด เดอะทรี อนุสาวรีย์ (The Tree Victory Mon...   \n",
       "..                                                ...   \n",
       "59               คอนโด โนเบิล รีเวนต์ (Noble Revent)    \n",
       "60                     คอนโด เอ็ม พญาไท (M Phyathai)    \n",
       "61   คอนโด ชีวาทัย ราชปรารภ (Chewathai Ratchaprarop)    \n",
       "62                      คอนโด เซอร์เคิล 1 (Circle 1)    \n",
       "63  คอนโด เดอะ คอมพลีท ราชปรารภ (The Complete Ratc...   \n",
       "\n",
       "                               Condo_Initial_Price  \\\n",
       "0                 เริ่มต้น 3.9 ลบ. (ณ. วันเปิดตัว)   \n",
       "1                เริ่มต้น 2.19 ลบ. (ณ. วันเปิดตัว)   \n",
       "2                 เริ่มต้น 3.9 ลบ. (ณ. วันเปิดตัว)   \n",
       "3                   3.2 - 9.45 ลบ. (ณ. วันเปิดตัว)   \n",
       "4          เริ่มต้น 4.19 ลบ. (ณ. วันที่ 17/1/2022)   \n",
       "..                                             ...   \n",
       "59          เริ่มต้น 9.2 ลบ. (ณ. วันที่ 26/5/2020)   \n",
       "60           เริ่มต้น 7.9 ลบ. (ณ. วันที่ 8/9/2014)   \n",
       "61          เริ่มต้น 3.5 ลบ. (ณ. วันที่ 29/5/2013)   \n",
       "62  เริ่มต้น 3.5 ล้านกว่าบาท (ณ. วันที่ 29/3/2019)   \n",
       "63          เริ่มต้น 7.7 ลบ. (ณ. วันที่ 12/9/2014)   \n",
       "\n",
       "                                  Condo_Developer  \\\n",
       "0                                          โนเบิล   \n",
       "1                                 แสนสิริ|เดอะมูฟ   \n",
       "2                                 พีทีเอฟเรียลตี้   \n",
       "3                         เคเอสเอเอสดีเวลอปเม้นท์   \n",
       "4                                   พฤกษา|เดอะทรี   \n",
       "..                                            ...   \n",
       "59                           โนเบิล|โนเบิลรีเวนต์   \n",
       "60                               เมเจอร์|มาเอสโตร   \n",
       "61                                ชีวาทัย|ชีวาทัย   \n",
       "62  เฟรเกรนท์พร็อพเพอร์ตี้(ในเครือเฟรเกรนท์กรุ๊ป)   \n",
       "63                           ปริญสิริ|เดอะคอมพลีท   \n",
       "\n",
       "                           Nearby_BTS_Station  \\\n",
       "0                     คอนโดโนเบิล ใกล้รถไฟฟ้า   \n",
       "1                    คอนโดแสนสิริ ใกล้รถไฟฟ้า   \n",
       "2           คอนโดพีทีเอฟ เรียลตี้ ใกล้รถไฟฟ้า   \n",
       "3   คอนโดเคเอสเอเอส ดีเวลอปเม้นท์ ใกล้รถไฟฟ้า   \n",
       "4                      คอนโดพฤกษา ใกล้รถไฟฟ้า   \n",
       "..                                        ...   \n",
       "59                    คอนโดโนเบิล ใกล้รถไฟฟ้า   \n",
       "60                   คอนโดเมเจอร์ ใกล้รถไฟฟ้า   \n",
       "61                   คอนโดชีวาทัย ใกล้รถไฟฟ้า   \n",
       "62   คอนโดเฟรเกรนท์ พร็อพเพอร์ตี้ ใกล้รถไฟฟ้า   \n",
       "63                  คอนโดปริญสิริ ใกล้รถไฟฟ้า   \n",
       "\n",
       "                             Room_Type                      Room_Size  \\\n",
       "0                    1ห้องนอน,2ห้องนอน      ตั้งแต่30.20ถึง56.10ตร.ม.   \n",
       "1              1ห้องนอน,2ห้องนอน,อื่นๆ      ตั้งแต่22.00ถึง49.75ตร.ม.   \n",
       "2          1ห้องนอน,2ห้องนอน,Penthouse     ตั้งแต่33.40ถึง131.50ตร.ม.   \n",
       "3          1ห้องนอน,2ห้องนอน,Penthouse      ตั้งแต่45.00ถึง80.00ตร.ม.   \n",
       "4                             1ห้องนอน  โปรดสอบถามข้อมูลกับทางโครงการ   \n",
       "..                                 ...                            ...   \n",
       "59           สตูดิโอ,1ห้องนอน,2ห้องนอน      ตั้งแต่32.66ถึง66.70ตร.ม.   \n",
       "60         1ห้องนอน,2ห้องนอน,Penthouse     ตั้งแต่42.00ถึง110.00ตร.ม.   \n",
       "61          1ห้องนอน,2ห้องนอน,3ห้องนอน      ตั้งแต่34.11ถึง72.10ตร.ม.   \n",
       "62  สตูดิโอ,1ห้องนอน,2ห้องนอน,3ห้องนอน     ตั้งแต่32.28ถึง126.23ตร.ม.   \n",
       "63          1ห้องนอน,2ห้องนอน,3ห้องนอน     ตั้งแต่35.54ถึง185.74ตร.ม.   \n",
       "\n",
       "                                      Nearby_Transits  \\\n",
       "0   ใกล้รถไฟฟ้า,คอนโดติดรถไฟฟ้าสายสีเขียวเข้มหมอชิ...   \n",
       "1   ใกล้รถไฟฟ้า,คอนโดติดรถไฟฟ้าสายสีเขียวเข้มหมอชิ...   \n",
       "2   ใกล้รถไฟฟ้า,คอนโดติดรถไฟฟ้าสายสีเขียวเข้มหมอชิ...   \n",
       "3   ใกล้รถไฟฟ้า,คอนโดติดรถไฟฟ้าสายสีเขียวเข้มหมอชิ...   \n",
       "4   ใกล้รถไฟฟ้า,คอนโดติดรถไฟฟ้าสายสีเขียวเข้มหมอชิ...   \n",
       "..                                                ...   \n",
       "59  ใกล้รถไฟฟ้า,คอนโดติดรถไฟฟ้าสายสีเขียวเข้มหมอชิ...   \n",
       "60  ใกล้รถไฟฟ้า,คอนโดติดรถไฟฟ้าสายสีเขียวเข้มหมอชิ...   \n",
       "61  ใกล้รถไฟฟ้า,คอนโดติดรถไฟฟ้าสายสีเขียวเข้มหมอชิ...   \n",
       "62  ใกล้ทางด่วน(ทางด่วนเพชรบุรี),ใกล้รถไฟฟ้า,คอนโด...   \n",
       "63  ใกล้รถไฟฟ้า,คอนโดติดรถไฟฟ้าสายสีเขียวเข้มหมอชิ...   \n",
       "\n",
       "                                             Location  \n",
       "0   ซอย อารีย์ 1 แขวง สามเสนใน เขตพญาไท กรุงเทพมหา...  \n",
       "1   ซอยประดิพัทธ์ 23 แขวงสามเสนใน เขตพญาไท กทม. 10400  \n",
       "2   ถนนวิภาวดีรังสิต แขวงสามเสนใน เขตพญาไท กรุงเทพ...  \n",
       "3   ซอย พหลโยธิน 7 (อารีย์ 2) ถนน พหลโยธิน แขวง สา...  \n",
       "4   ถนนดินแดง แขวงสามเสนใน เขตพญาไท กรุงเทพมหานคร ...  \n",
       "..                                                ...  \n",
       "59      ถนนศรีอยุธยา แขวงถนนพญาไท เขตราชเทวี กรุงเทพฯ  \n",
       "60             ถนนพญาไท แขวงพญาไท เขตราชเทวี กรุงเทพฯ  \n",
       "61  ถนนราชปรารภ แขวงมักกะสัน เขตราชเทวี กรุงเทพมหานคร  \n",
       "62  ถนนเพชรบุรีตัดใหม่ (ซอยเพชรบุรี 36) มักกะสัน ร...  \n",
       "63  ถนนราชปรารภ แขวงมักกะสัน เขตราชเทวี กรุงเทพมหานคร  \n",
       "\n",
       "[64 rows x 8 columns]"
      ]
     },
     "execution_count": 37,
     "metadata": {},
     "output_type": "execute_result"
    }
   ],
   "source": [
    "urls = ['https://www.checkraka.com/condo/?mtspublictransport=2&trainline=17&province=1&zone=919&quicksearch_order=update%2CDESC&productlist_records_perpage=50', \n",
    "        'https://www.checkraka.com/condo/?mtspublictransport=2&trainline=17&province=1&zone=926&quicksearch_order=update%2CDESC&productlist_records_perpage=50']\n",
    "\n",
    "for url in urls:\n",
    "    req = requests.get(url,'html.parsel')\n",
    "    if req.status_code == 200:\n",
    "        print('Import Successful')\n",
    "    else:\n",
    "        print('Import Unsuccessful')\n",
    "    soup = BeautifulSoup(req.text)\n",
    "  #function Scraping\n",
    "    for c in soup.find_all('div',{'class':'content c46'}):\n",
    "        for i in c.find_all('div',{'class':'data'}):\n",
    "            try:\n",
    "                x = i.text.splitlines()[1]\n",
    "                data_list.append(x)\n",
    "            except AttributeError: \n",
    "                pass\n",
    "        price_list.append(c.find('div',{'class':'price'}).text)\n",
    "for a in range(7):\n",
    "    for b in range(a,len(data_list),7):\n",
    "        if a == 0:\n",
    "            name_condo.append(str(data_list[b]))\n",
    "        elif a == 1:\n",
    "            developer_list.append(str(data_list[b].replace(' ','')))\n",
    "        elif a == 2:\n",
    "            near_BTS_station_list.append(str(data_list[b]))\n",
    "        elif a == 3:\n",
    "            room_available_type_list.append(str(data_list[b].replace(' ','')))\n",
    "        elif a == 4:\n",
    "            room_available_size_list.append(str(data_list[b].replace(' ','')))\n",
    "        elif a == 5:\n",
    "            near_transits.append(str(data_list[b].replace(' ','')))\n",
    "        elif a == 6:\n",
    "            located_list.append(str(data_list[b]))\n",
    "        else:pass\n",
    "for i in range(len(located_list)):\n",
    "    y=0\n",
    "    each_i = located_list[i].split()\n",
    "    for j in each_i:\n",
    "        if j in cut:\n",
    "            break\n",
    "        else:\n",
    "            y += 1\n",
    "    z = each_i[0:y]\n",
    "    ok = ' '.join(z)\n",
    "    new_located_list.append(ok)\n",
    "\n",
    "# Save Data to Table\n",
    "# บันทึก ข้อมูล ลงตาราง #ปรับให้อยู่ในรูปคอลัมน์\n",
    "table = pd.DataFrame([name_condo, price_list, developer_list, near_BTS_station_list, \n",
    "                      room_available_type_list, room_available_size_list, near_transits, new_located_list]).transpose()\n",
    "#ตั้งชื่อคอลัมน์\n",
    "table.columns = (['Condo_Name', 'Condo_Initial_Price','Condo_Developer', 'Nearby_BTS_Station',\n",
    "                  'Room_Type', 'Room_Size','Nearby_Transits','Location'])\n",
    "table"
   ]
  },
  {
   "cell_type": "code",
   "execution_count": 38,
   "id": "6a2c11c1-b425-4281-9452-51c8d01f493e",
   "metadata": {},
   "outputs": [
    {
     "data": {
      "text/plain": [
       "Index(['Condo_Name', 'Condo_Initial_Price', 'Condo_Developer',\n",
       "       'Nearby_BTS_Station', 'Room_Type', 'Room_Size', 'Nearby_Transits',\n",
       "       'Location'],\n",
       "      dtype='object')"
      ]
     },
     "execution_count": 38,
     "metadata": {},
     "output_type": "execute_result"
    }
   ],
   "source": [
    "table.columns"
   ]
  },
  {
   "cell_type": "code",
   "execution_count": 39,
   "id": "3878abd4-ca1e-42bb-abb3-e174f44bc6d3",
   "metadata": {},
   "outputs": [],
   "source": [
    "table['Condo_Name'] = table['Condo_Name'].astype(str)\n",
    "table['Condo_Initial_Price'] = table['Condo_Initial_Price'].astype(str)\n",
    "table['Condo_Developer'] = table['Condo_Developer'].astype(str)\n",
    "table['Nearby_BTS_Station'] = table['Nearby_BTS_Station'].astype(str)\n",
    "table['Room_Type'] = table['Room_Type'].astype(str)\n",
    "table['Room_Size'] = table['Room_Size'].astype(str)\n",
    "table['Nearby_Transits'] = table['Nearby_Transits'].astype(str)\n",
    "table['Location'] = table['Location'].astype(str)"
   ]
  },
  {
   "cell_type": "markdown",
   "id": "21094374-e1c5-4447-9e50-daa419992adc",
   "metadata": {},
   "source": [
    "# Export Pandas to CSV"
   ]
  },
  {
   "cell_type": "code",
   "execution_count": 40,
   "id": "9e035781-533a-40b3-91f6-b9c043ada159",
   "metadata": {
    "jupyter": {
     "source_hidden": true
    },
    "tags": []
   },
   "outputs": [],
   "source": [
    "table.to_csv('scrap_w2.csv',index=False)"
   ]
  },
  {
   "cell_type": "markdown",
   "id": "8b6ca6cf-09de-4cc9-a4e5-d23b41724983",
   "metadata": {},
   "source": [
    "# Upload data to DataPlatform"
   ]
  },
  {
   "cell_type": "code",
   "execution_count": 41,
   "id": "ba7ee74d-6f66-417e-addf-9d4b0d737e0e",
   "metadata": {},
   "outputs": [],
   "source": [
    "from dsmlibrary.datanode import DataNode"
   ]
  },
  {
   "cell_type": "code",
   "execution_count": 42,
   "id": "e0935803-ea70-40f3-9e69-bad497f27a6a",
   "metadata": {},
   "outputs": [],
   "source": [
    "dir_raw_id = 118"
   ]
  },
  {
   "cell_type": "code",
   "execution_count": 43,
   "id": "d32a2048-a091-43ac-9218-76c08afdb4c3",
   "metadata": {},
   "outputs": [
    {
     "name": "stdout",
     "output_type": "stream",
     "text": [
      "Init DataNode sucessful!\n"
     ]
    }
   ],
   "source": [
    "datanode = DataNode()"
   ]
  },
  {
   "cell_type": "code",
   "execution_count": 44,
   "id": "42d7b68f-b05e-4ce9-b39b-1c93b33648b9",
   "metadata": {},
   "outputs": [
    {
     "name": "stdin",
     "output_type": "stream",
     "text": [
      "File scrap_w2.json alrady exists, do you want to replace y/n :  y\n"
     ]
    },
    {
     "data": {
      "application/vnd.jupyter.widget-view+json": {
       "model_id": "afaf20b4ee494f6da411e5db36d1eee9",
       "version_major": 2,
       "version_minor": 0
      },
      "text/plain": [
       "  0%|          | 0.00/93.1k [00:00<?, ?B/s]"
      ]
     },
     "metadata": {},
     "output_type": "display_data"
    },
    {
     "data": {
      "text/plain": [
       "{'id': 439,\n",
       " 'msg': 'file scrap_w2.json create sucessful',\n",
       " 'path': 'khatcha/DSI310-21/raw/scrap_w2.json',\n",
       " 'uploaded': True}"
      ]
     },
     "execution_count": 44,
     "metadata": {},
     "output_type": "execute_result"
    }
   ],
   "source": [
    "datanode.upload_file(directory_id=dir_raw_id, file_path='scrap_w2.json')"
   ]
  },
  {
   "cell_type": "markdown",
   "id": "deb97b74-2bca-4827-9c3b-ca45fd19c2c6",
   "metadata": {},
   "source": [
    "# Read stored data from DataPlatform"
   ]
  },
  {
   "cell_type": "code",
   "execution_count": 62,
   "id": "fc1d7939-cf97-43a4-8370-6802743e79aa",
   "metadata": {},
   "outputs": [],
   "source": [
    "from dsmlibrary.datanode import DataNode\n",
    "import json\n",
    "from tqdm.auto import tqdm\n",
    "import pandas as pd"
   ]
  },
  {
   "cell_type": "code",
   "execution_count": 63,
   "id": "22f4fb97-2100-44b8-9827-4a6c99fa1528",
   "metadata": {},
   "outputs": [],
   "source": [
    "dir_raw_id = 118\n",
    "dir_process_id = 120"
   ]
  },
  {
   "cell_type": "code",
   "execution_count": 65,
   "id": "af746a68-f741-41a6-85af-f9ddd4d219ce",
   "metadata": {},
   "outputs": [
    {
     "name": "stdout",
     "output_type": "stream",
     "text": [
      "Init DataNode sucessful!\n"
     ]
    }
   ],
   "source": [
    "datanode = DataNode()"
   ]
  },
  {
   "cell_type": "code",
   "execution_count": 66,
   "id": "39a21bb1-2020-48f5-a870-cb81e8db410c",
   "metadata": {},
   "outputs": [
    {
     "data": {
      "text/plain": [
       "{'owner': 'khatcha',\n",
       " 'human_size': '95.35 KB',\n",
       " 'name': 'scrap_w2.json',\n",
       " 'description': 'file scrap_w2.json',\n",
       " 'directory': 118,\n",
       " 'path': 'khatcha/DSI310-21/raw/scrap_w2.json'}"
      ]
     },
     "execution_count": 66,
     "metadata": {},
     "output_type": "execute_result"
    }
   ],
   "source": [
    "meta, fp = datanode.get_file(datanode.get_file_id(directory_id=dir_raw_id, name='scrap_w2.json'))\n",
    "meta"
   ]
  },
  {
   "cell_type": "code",
   "execution_count": 71,
   "id": "d373224b-70c2-49a0-86fe-336abf451e88",
   "metadata": {},
   "outputs": [],
   "source": [
    "#data = json.load(fp)\n",
    "\n",
    "df= pd.read_csv('scrap_w2.csv')\n",
    "\n",
    "#df = pd.json_normalize(data)\n",
    "#df"
   ]
  },
  {
   "cell_type": "markdown",
   "id": "da8d2951-28bb-4cef-856d-a8ae1ff58cb4",
   "metadata": {},
   "source": [
    "# write Datanode to DataPlatform"
   ]
  },
  {
   "cell_type": "code",
   "execution_count": 72,
   "id": "417901e5-7f23-44dc-88a3-f8641d4a5928",
   "metadata": {},
   "outputs": [
    {
     "data": {
      "text/plain": [
       "{'sucess': True,\n",
       " 'file_id': 441,\n",
       " 'path': 'khatcha/DSI310-21/process/CheckRaka.parquet',\n",
       " 'lineage': True}"
      ]
     },
     "execution_count": 72,
     "metadata": {},
     "output_type": "execute_result"
    }
   ],
   "source": [
    "datanode.write(df=df, directory=dir_process_id, name=\"CheckRaka\", profiling=True, lineage=[datanode.get_file_id(directory_id=dir_raw_id, name='scrap_w2.csv')])"
   ]
  },
  {
   "cell_type": "code",
   "execution_count": null,
   "id": "2a529201-70ef-452c-88a7-ba2c67c7cf9d",
   "metadata": {},
   "outputs": [],
   "source": []
  }
 ],
 "metadata": {
  "kernelspec": {
   "display_name": "Python 3 (ipykernel)",
   "language": "python",
   "name": "python3"
  },
  "language_info": {
   "codemirror_mode": {
    "name": "ipython",
    "version": 3
   },
   "file_extension": ".py",
   "mimetype": "text/x-python",
   "name": "python",
   "nbconvert_exporter": "python",
   "pygments_lexer": "ipython3",
   "version": "3.10.5"
  }
 },
 "nbformat": 4,
 "nbformat_minor": 5
}
