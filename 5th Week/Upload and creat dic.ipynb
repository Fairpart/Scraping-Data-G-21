{
 "cells": [
  {
   "cell_type": "markdown",
   "id": "db66f0bc-ea47-4cc0-ae9a-c95dfee78033",
   "metadata": {},
   "source": [
    "# Scraping Week 5 DSI310\n",
    "\n",
    "### Import CSV File"
   ]
  },
  {
   "cell_type": "code",
   "execution_count": 28,
   "id": "45ec8ba5",
   "metadata": {
    "scrolled": true
   },
   "outputs": [],
   "source": [
    "import pandas as pd"
   ]
  },
  {
   "cell_type": "code",
   "execution_count": 29,
   "id": "761d4750",
   "metadata": {
    "scrolled": true
   },
   "outputs": [],
   "source": [
    "data = pd.read_csv('Scraping_week5.csv')"
   ]
  },
  {
   "cell_type": "code",
   "execution_count": 30,
   "id": "1f829801",
   "metadata": {
    "scrolled": true
   },
   "outputs": [
    {
     "name": "stdout",
     "output_type": "stream",
     "text": [
      "<class 'pandas.core.frame.DataFrame'>\n",
      "RangeIndex: 20 entries, 0 to 19\n",
      "Data columns (total 3 columns):\n",
      " #   Column      Non-Null Count  Dtype \n",
      "---  ------      --------------  ----- \n",
      " 0   Hotel Name  20 non-null     object\n",
      " 1   Rating      20 non-null     object\n",
      " 2   Reviews     20 non-null     object\n",
      "dtypes: object(3)\n",
      "memory usage: 608.0+ bytes\n"
     ]
    }
   ],
   "source": [
    "data.info()"
   ]
  },
  {
   "cell_type": "code",
   "execution_count": 32,
   "id": "1b84988c-1d8f-4eaf-9a15-92c7adebcf74",
   "metadata": {},
   "outputs": [
    {
     "data": {
      "text/html": [
       "<div>\n",
       "<style scoped>\n",
       "    .dataframe tbody tr th:only-of-type {\n",
       "        vertical-align: middle;\n",
       "    }\n",
       "\n",
       "    .dataframe tbody tr th {\n",
       "        vertical-align: top;\n",
       "    }\n",
       "\n",
       "    .dataframe thead th {\n",
       "        text-align: right;\n",
       "    }\n",
       "</style>\n",
       "<table border=\"1\" class=\"dataframe\">\n",
       "  <thead>\n",
       "    <tr style=\"text-align: right;\">\n",
       "      <th></th>\n",
       "      <th>Hotel Name</th>\n",
       "      <th>Rating</th>\n",
       "      <th>Reviews</th>\n",
       "    </tr>\n",
       "  </thead>\n",
       "  <tbody>\n",
       "    <tr>\n",
       "      <th>0</th>\n",
       "      <td>Pullman King Power Bangkok Hotel</td>\n",
       "      <td>4.6</td>\n",
       "      <td>13 รีวิว</td>\n",
       "    </tr>\n",
       "    <tr>\n",
       "      <th>1</th>\n",
       "      <td>โรงแรมใบหยกสกาย (Baiyoke Sky Hotel)</td>\n",
       "      <td>4.1</td>\n",
       "      <td>9 รีวิว</td>\n",
       "    </tr>\n",
       "    <tr>\n",
       "      <th>2</th>\n",
       "      <td>วีโฮเต็ล (Vie Hotel Bangkok, Mgallery By Sofitel)</td>\n",
       "      <td>4.5</td>\n",
       "      <td>5 รีวิว</td>\n",
       "    </tr>\n",
       "    <tr>\n",
       "      <th>3</th>\n",
       "      <td>The Berkeley Hotel Pratunam</td>\n",
       "      <td>4.5</td>\n",
       "      <td>8 รีวิว</td>\n",
       "    </tr>\n",
       "    <tr>\n",
       "      <th>4</th>\n",
       "      <td>โรงแรมอครา กรุงเทพฯ (Akara Hotel Bangkok)</td>\n",
       "      <td>4.8</td>\n",
       "      <td>3 รีวิว</td>\n",
       "    </tr>\n",
       "  </tbody>\n",
       "</table>\n",
       "</div>"
      ],
      "text/plain": [
       "                                          Hotel Name Rating   Reviews\n",
       "0                   Pullman King Power Bangkok Hotel    4.6  13 รีวิว\n",
       "1                โรงแรมใบหยกสกาย (Baiyoke Sky Hotel)    4.1   9 รีวิว\n",
       "2  วีโฮเต็ล (Vie Hotel Bangkok, Mgallery By Sofitel)    4.5   5 รีวิว\n",
       "3                        The Berkeley Hotel Pratunam    4.5   8 รีวิว\n",
       "4          โรงแรมอครา กรุงเทพฯ (Akara Hotel Bangkok)    4.8   3 รีวิว"
      ]
     },
     "execution_count": 32,
     "metadata": {},
     "output_type": "execute_result"
    }
   ],
   "source": [
    "data.head(5)"
   ]
  },
  {
   "cell_type": "markdown",
   "id": "30e6644f-2c36-48dd-a0e1-10d5a295391b",
   "metadata": {
    "tags": []
   },
   "source": [
    "## Upload data to DataPlatform"
   ]
  },
  {
   "cell_type": "code",
   "execution_count": 33,
   "id": "47fe0f3f",
   "metadata": {},
   "outputs": [],
   "source": [
    "from dsmlibrary.datanode import DataNode\n"
   ]
  },
  {
   "cell_type": "code",
   "execution_count": 34,
   "id": "3bcf8cca",
   "metadata": {},
   "outputs": [],
   "source": [
    "dir_raw_id = 118\n"
   ]
  },
  {
   "cell_type": "code",
   "execution_count": 35,
   "id": "17f0837d",
   "metadata": {},
   "outputs": [
    {
     "name": "stdout",
     "output_type": "stream",
     "text": [
      "Init DataNode sucessful!\n"
     ]
    }
   ],
   "source": [
    "datanode = DataNode()\n"
   ]
  },
  {
   "cell_type": "markdown",
   "id": "1ec9ee98-15d8-4d3c-bc5d-a7ef50be8c4f",
   "metadata": {},
   "source": [
    "## Read stored data from DataPlatform"
   ]
  },
  {
   "cell_type": "code",
   "execution_count": 36,
   "id": "69762ecc",
   "metadata": {},
   "outputs": [],
   "source": [
    "from dsmlibrary.datanode import DataNode\n",
    "import json\n",
    "from tqdm.auto import tqdm\n",
    "import pandas as pd"
   ]
  },
  {
   "cell_type": "code",
   "execution_count": 37,
   "id": "84dff0c7",
   "metadata": {},
   "outputs": [],
   "source": [
    "dir_raw_id = 118\n",
    "dir_process_id = 120"
   ]
  },
  {
   "cell_type": "code",
   "execution_count": 39,
   "id": "01d44a99",
   "metadata": {},
   "outputs": [
    {
     "name": "stdout",
     "output_type": "stream",
     "text": [
      "Init DataNode sucessful!\n"
     ]
    }
   ],
   "source": [
    "datanode = DataNode()"
   ]
  },
  {
   "cell_type": "code",
   "execution_count": 40,
   "id": "b9fa8512",
   "metadata": {},
   "outputs": [
    {
     "name": "stdin",
     "output_type": "stream",
     "text": [
      "File Scraping_week5.csv alrady exists, do you want to replace y/n :  y\n"
     ]
    },
    {
     "data": {
      "application/vnd.jupyter.widget-view+json": {
       "model_id": "4c4d04be13944e67b670edd0430a7b8f",
       "version_major": 2,
       "version_minor": 0
      },
      "text/plain": [
       "  0%|          | 0.00/1.43k [00:00<?, ?B/s]"
      ]
     },
     "metadata": {},
     "output_type": "display_data"
    },
    {
     "data": {
      "text/plain": [
       "{'id': 980,\n",
       " 'msg': 'file Scraping_week5.csv create sucessful',\n",
       " 'path': 'khatcha/DSI310-21/raw/Scraping_week5.csv',\n",
       " 'uploaded': True}"
      ]
     },
     "execution_count": 40,
     "metadata": {},
     "output_type": "execute_result"
    }
   ],
   "source": [
    "datanode.upload_file(directory_id=dir_raw_id, file_path='Scraping_week5.csv')"
   ]
  },
  {
   "cell_type": "code",
   "execution_count": 41,
   "id": "ae701d64",
   "metadata": {},
   "outputs": [
    {
     "data": {
      "text/plain": [
       "{'owner': 'khatcha',\n",
       " 'human_size': '1.46 KB',\n",
       " 'name': 'Scraping_week5.csv',\n",
       " 'description': 'file Scraping_week5.csv',\n",
       " 'directory': 118,\n",
       " 'path': 'khatcha/DSI310-21/raw/Scraping_week5.csv'}"
      ]
     },
     "execution_count": 41,
     "metadata": {},
     "output_type": "execute_result"
    }
   ],
   "source": [
    "meta, fp = datanode.get_file(datanode.get_file_id(directory_id=dir_raw_id, name='Scraping_week5.csv'))\n",
    "meta"
   ]
  },
  {
   "cell_type": "code",
   "execution_count": 42,
   "id": "289c18de-8435-4de2-94f9-108860b3a64d",
   "metadata": {},
   "outputs": [
    {
     "data": {
      "text/html": [
       "<div>\n",
       "<style scoped>\n",
       "    .dataframe tbody tr th:only-of-type {\n",
       "        vertical-align: middle;\n",
       "    }\n",
       "\n",
       "    .dataframe tbody tr th {\n",
       "        vertical-align: top;\n",
       "    }\n",
       "\n",
       "    .dataframe thead th {\n",
       "        text-align: right;\n",
       "    }\n",
       "</style>\n",
       "<table border=\"1\" class=\"dataframe\">\n",
       "  <thead>\n",
       "    <tr style=\"text-align: right;\">\n",
       "      <th></th>\n",
       "      <th>Hotel Name</th>\n",
       "      <th>Rating</th>\n",
       "      <th>Reviews</th>\n",
       "    </tr>\n",
       "  </thead>\n",
       "  <tbody>\n",
       "    <tr>\n",
       "      <th>0</th>\n",
       "      <td>Pullman King Power Bangkok Hotel</td>\n",
       "      <td>4.6</td>\n",
       "      <td>13 รีวิว</td>\n",
       "    </tr>\n",
       "    <tr>\n",
       "      <th>1</th>\n",
       "      <td>โรงแรมใบหยกสกาย (Baiyoke Sky Hotel)</td>\n",
       "      <td>4.1</td>\n",
       "      <td>9 รีวิว</td>\n",
       "    </tr>\n",
       "    <tr>\n",
       "      <th>2</th>\n",
       "      <td>วีโฮเต็ล (Vie Hotel Bangkok, Mgallery By Sofitel)</td>\n",
       "      <td>4.5</td>\n",
       "      <td>5 รีวิว</td>\n",
       "    </tr>\n",
       "    <tr>\n",
       "      <th>3</th>\n",
       "      <td>The Berkeley Hotel Pratunam</td>\n",
       "      <td>4.5</td>\n",
       "      <td>8 รีวิว</td>\n",
       "    </tr>\n",
       "    <tr>\n",
       "      <th>4</th>\n",
       "      <td>โรงแรมอครา กรุงเทพฯ (Akara Hotel Bangkok)</td>\n",
       "      <td>4.8</td>\n",
       "      <td>3 รีวิว</td>\n",
       "    </tr>\n",
       "    <tr>\n",
       "      <th>5</th>\n",
       "      <td>The Sukosol Bangkok (The Sukosol Bangkok)</td>\n",
       "      <td>4.6</td>\n",
       "      <td>7 รีวิว</td>\n",
       "    </tr>\n",
       "    <tr>\n",
       "      <th>6</th>\n",
       "      <td>โรงแรมเอเชีย (Asia Hotel)</td>\n",
       "      <td>3.6</td>\n",
       "      <td>3 รีวิว</td>\n",
       "    </tr>\n",
       "    <tr>\n",
       "      <th>7</th>\n",
       "      <td>สำราญเพลส (Samran Place)</td>\n",
       "      <td>4.0</td>\n",
       "      <td>2 รีวิว</td>\n",
       "    </tr>\n",
       "    <tr>\n",
       "      <th>8</th>\n",
       "      <td>อมารี วอเตอร์เกท กรุงเทพฯ (Amari Watergate Ban...</td>\n",
       "      <td>4.5</td>\n",
       "      <td>2 รีวิว</td>\n",
       "    </tr>\n",
       "    <tr>\n",
       "      <th>9</th>\n",
       "      <td>De Prime@Rangnam, Your Tailor Made Hotel</td>\n",
       "      <td>2.7</td>\n",
       "      <td>4 รีวิว</td>\n",
       "    </tr>\n",
       "    <tr>\n",
       "      <th>10</th>\n",
       "      <td>K Maison Boutique Hotel</td>\n",
       "      <td>3.0</td>\n",
       "      <td>1 รีวิว</td>\n",
       "    </tr>\n",
       "    <tr>\n",
       "      <th>11</th>\n",
       "      <td>โรงแรมเดอะสุโกศล (The Su Koson Hotel)</td>\n",
       "      <td>4.5</td>\n",
       "      <td>2 รีวิว</td>\n",
       "    </tr>\n",
       "    <tr>\n",
       "      <th>12</th>\n",
       "      <td>โรงแรมปิคนิค (Picnic Hotel)</td>\n",
       "      <td>3.5</td>\n",
       "      <td>2 รีวิว</td>\n",
       "    </tr>\n",
       "    <tr>\n",
       "      <th>13</th>\n",
       "      <td>Bangkok Oasis Hotel</td>\n",
       "      <td>4.0</td>\n",
       "      <td>2 รีวิว</td>\n",
       "    </tr>\n",
       "    <tr>\n",
       "      <th>14</th>\n",
       "      <td>โรงแรมเซ็นจูรี่พาร์ค (Century Park Hotel)</td>\n",
       "      <td>3.6</td>\n",
       "      <td>2 รีวิว</td>\n",
       "    </tr>\n",
       "    <tr>\n",
       "      <th>15</th>\n",
       "      <td>โมวีลอดจ์โฮสเทล (Movylodge Hostel)</td>\n",
       "      <td>4.0</td>\n",
       "      <td>6 รีวิว</td>\n",
       "    </tr>\n",
       "    <tr>\n",
       "      <th>16</th>\n",
       "      <td>Bangkok Midtown Hotel</td>\n",
       "      <td>2.0</td>\n",
       "      <td>3 รีวิว</td>\n",
       "    </tr>\n",
       "    <tr>\n",
       "      <th>17</th>\n",
       "      <td>โรงแรมบางกอกซิตี้ (Bangkok City Hotel)</td>\n",
       "      <td>5.0</td>\n",
       "      <td>1 รีวิว</td>\n",
       "    </tr>\n",
       "    <tr>\n",
       "      <th>18</th>\n",
       "      <td>โรงแรม​tranz</td>\n",
       "      <td>None</td>\n",
       "      <td>1 รีวิว</td>\n",
       "    </tr>\n",
       "    <tr>\n",
       "      <th>19</th>\n",
       "      <td>Sukhon Hotel Bangkok</td>\n",
       "      <td>None</td>\n",
       "      <td>None</td>\n",
       "    </tr>\n",
       "  </tbody>\n",
       "</table>\n",
       "</div>"
      ],
      "text/plain": [
       "                                           Hotel Name Rating   Reviews\n",
       "0                    Pullman King Power Bangkok Hotel    4.6  13 รีวิว\n",
       "1                 โรงแรมใบหยกสกาย (Baiyoke Sky Hotel)    4.1   9 รีวิว\n",
       "2   วีโฮเต็ล (Vie Hotel Bangkok, Mgallery By Sofitel)    4.5   5 รีวิว\n",
       "3                         The Berkeley Hotel Pratunam    4.5   8 รีวิว\n",
       "4           โรงแรมอครา กรุงเทพฯ (Akara Hotel Bangkok)    4.8   3 รีวิว\n",
       "5           The Sukosol Bangkok (The Sukosol Bangkok)    4.6   7 รีวิว\n",
       "6                           โรงแรมเอเชีย (Asia Hotel)    3.6   3 รีวิว\n",
       "7                            สำราญเพลส (Samran Place)    4.0   2 รีวิว\n",
       "8   อมารี วอเตอร์เกท กรุงเทพฯ (Amari Watergate Ban...    4.5   2 รีวิว\n",
       "9            De Prime@Rangnam, Your Tailor Made Hotel    2.7   4 รีวิว\n",
       "10                            K Maison Boutique Hotel    3.0   1 รีวิว\n",
       "11              โรงแรมเดอะสุโกศล (The Su Koson Hotel)    4.5   2 รีวิว\n",
       "12                        โรงแรมปิคนิค (Picnic Hotel)    3.5   2 รีวิว\n",
       "13                                Bangkok Oasis Hotel    4.0   2 รีวิว\n",
       "14          โรงแรมเซ็นจูรี่พาร์ค (Century Park Hotel)    3.6   2 รีวิว\n",
       "15                 โมวีลอดจ์โฮสเทล (Movylodge Hostel)    4.0   6 รีวิว\n",
       "16                              Bangkok Midtown Hotel    2.0   3 รีวิว\n",
       "17             โรงแรมบางกอกซิตี้ (Bangkok City Hotel)    5.0   1 รีวิว\n",
       "18                                       โรงแรม​tranz   None   1 รีวิว\n",
       "19                               Sukhon Hotel Bangkok   None      None"
      ]
     },
     "execution_count": 42,
     "metadata": {},
     "output_type": "execute_result"
    }
   ],
   "source": [
    "df= pd.read_csv('Scraping_week5.csv')\n",
    "df"
   ]
  },
  {
   "cell_type": "markdown",
   "id": "98c2b119-1d0f-4d22-8aa3-de0b57f6b746",
   "metadata": {
    "tags": []
   },
   "source": [
    "## write Datanode to DataPlatform"
   ]
  },
  {
   "cell_type": "code",
   "execution_count": 43,
   "id": "bb52f51d-8e0a-435a-8016-8101f5631301",
   "metadata": {},
   "outputs": [
    {
     "data": {
      "text/plain": [
       "{'sucess': True,\n",
       " 'file_id': 1003,\n",
       " 'path': 'khatcha/DSI310-21/process/Week_05.parquet',\n",
       " 'lineage': True}"
      ]
     },
     "execution_count": 43,
     "metadata": {},
     "output_type": "execute_result"
    }
   ],
   "source": [
    "datanode.write(df=df, directory=dir_process_id, name=\"Week_05\", profiling=True, lineage=[datanode.get_file_id(directory_id=dir_raw_id, name='Scraping_week5.csv')])"
   ]
  }
 ],
 "metadata": {
  "kernelspec": {
   "display_name": "Python 3 (ipykernel)",
   "language": "python",
   "name": "python3"
  },
  "language_info": {
   "codemirror_mode": {
    "name": "ipython",
    "version": 3
   },
   "file_extension": ".py",
   "mimetype": "text/x-python",
   "name": "python",
   "nbconvert_exporter": "python",
   "pygments_lexer": "ipython3",
   "version": "3.10.5"
  }
 },
 "nbformat": 4,
 "nbformat_minor": 5
}
