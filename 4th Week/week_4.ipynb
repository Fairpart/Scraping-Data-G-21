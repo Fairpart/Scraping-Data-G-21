{
 "cells": [
  {
   "cell_type": "markdown",
   "id": "db66f0bc-ea47-4cc0-ae9a-c95dfee78033",
   "metadata": {},
   "source": [
    "# Scraping Week 4 DSI310\n"
   ]
  },
  {
   "cell_type": "code",
   "execution_count": 1,
   "id": "45ec8ba5",
   "metadata": {
    "scrolled": true
   },
   "outputs": [],
   "source": [
    "from bs4 import BeautifulSoup\n",
    "import requests\n",
    "import pandas as pd\n",
    "\n"
   ]
  },
  {
   "cell_type": "code",
   "execution_count": 2,
   "id": "761d4750",
   "metadata": {
    "scrolled": true
   },
   "outputs": [
    {
     "name": "stdout",
     "output_type": "stream",
     "text": [
      "Requirement already satisfied: requests in /opt/conda/lib/python3.10/site-packages (2.28.1)\n",
      "Requirement already satisfied: charset-normalizer<3,>=2 in /opt/conda/lib/python3.10/site-packages (from requests) (2.1.0)\n",
      "Requirement already satisfied: certifi>=2017.4.17 in /opt/conda/lib/python3.10/site-packages (from requests) (2022.6.15)\n",
      "Requirement already satisfied: urllib3<1.27,>=1.21.1 in /opt/conda/lib/python3.10/site-packages (from requests) (1.26.11)\n",
      "Requirement already satisfied: idna<4,>=2.5 in /opt/conda/lib/python3.10/site-packages (from requests) (3.3)\n",
      "Note: you may need to restart the kernel to use updated packages.\n"
     ]
    }
   ],
   "source": [
    "pip install requests\n"
   ]
  },
  {
   "cell_type": "code",
   "execution_count": 3,
   "id": "1f829801",
   "metadata": {
    "scrolled": true
   },
   "outputs": [
    {
     "name": "stdout",
     "output_type": "stream",
     "text": [
      "Requirement already satisfied: pandas in /opt/conda/lib/python3.10/site-packages (1.4.3)\n",
      "Requirement already satisfied: python-dateutil>=2.8.1 in /opt/conda/lib/python3.10/site-packages (from pandas) (2.8.2)\n",
      "Requirement already satisfied: pytz>=2020.1 in /opt/conda/lib/python3.10/site-packages (from pandas) (2022.1)\n",
      "Requirement already satisfied: numpy>=1.21.0 in /opt/conda/lib/python3.10/site-packages (from pandas) (1.22.4)\n",
      "Requirement already satisfied: six>=1.5 in /opt/conda/lib/python3.10/site-packages (from python-dateutil>=2.8.1->pandas) (1.16.0)\n",
      "Note: you may need to restart the kernel to use updated packages.\n"
     ]
    }
   ],
   "source": [
    "pip install pandas"
   ]
  },
  {
   "cell_type": "code",
   "execution_count": 4,
   "id": "c75a07a1",
   "metadata": {},
   "outputs": [],
   "source": [
    "data = requests.get('https://propertyscout.co.th/%E0%B8%81%E0%B8%A3%E0%B8%B8%E0%B8%87%E0%B9%80%E0%B8%97%E0%B8%9E/%E0%B8%A3%E0%B8%B2%E0%B8%8A%E0%B9%80%E0%B8%97%E0%B8%A7%E0%B8%B5/%E0%B8%82%E0%B8%B2%E0%B8%A2/2000000%E0%B8%9A%E0%B8%B2%E0%B8%97-165000000%E0%B8%9A%E0%B8%B2%E0%B8%97/%E0%B8%96%E0%B8%B9%E0%B8%81%E0%B8%97%E0%B8%B5%E0%B9%88%E0%B8%AA%E0%B8%B8%E0%B8%94/')\n",
    "soup = BeautifulSoup(data.text)"
   ]
  },
  {
   "cell_type": "code",
   "execution_count": 5,
   "id": "a9637939",
   "metadata": {},
   "outputs": [],
   "source": [
    "Title_list = list()\n",
    "Location_list =list()\n",
    "Price_list =list()\n"
   ]
  },
  {
   "cell_type": "code",
   "execution_count": 6,
   "id": "f5ce4852",
   "metadata": {},
   "outputs": [],
   "source": [
    "title = soup.find_all('div',{'class':'Rental_card__content_head__text__CWkji'})\n",
    "\n",
    "   "
   ]
  },
  {
   "cell_type": "code",
   "execution_count": 7,
   "id": "75ced975",
   "metadata": {},
   "outputs": [
    {
     "name": "stdout",
     "output_type": "stream",
     "text": [
      "เดอะ มาร์ค รัชดา แอร์พอร์ตลิ้งค์\n",
      "คอนโด 1 นอน ห้องใหญ่ ใกล้ BTS พญาไท\n",
      "เดอะ มาร์ค รัชดา แอร์พอร์ตลิ้งค์\n",
      "เดอะ มาร์ค รัชดา แอร์พอร์ตลิ้งค์\n",
      "คอนโด 2 นอน ห้องสวย ใกล้ BTS นานา ขั้นต่ำ 6 ด\n",
      "เดอะ มาร์ค รัชดา แอร์พอร์ตลิ้งค์\n",
      "เดอะ มาร์ค รัชดา แอร์พอร์ตลิ้งค์\n",
      "เดอะ มาร์ค รัชดา แอร์พอร์ตลิ้งค์\n",
      "เดอะ คอมพลีท ราชปรารภ\n",
      "วิช ซิกเนเจอร์ มิดทาวน์ สยาม\n",
      "เดอะ มาร์ค รัชดา แอร์พอร์ตลิ้งค์\n",
      "บ้าน 3 นอน ห้องกว้าง ใกล้ BTS พญาไท\n",
      "ราชวิถี ซิตี้ รีสอร์ท คอนโดมิเนียม\n",
      "วิช แอท สยาม คอนโดมิเนียม\n",
      "บ้าน 3 นอน ตกแต่งสวย ใกล้ BTS ราชเทวี\n",
      "วิช แอท สยาม คอนโดมิเนียม\n",
      "ริทึ่ม อโศก\n",
      "ไลฟ์ อโศก พระราม 9\n",
      "เดอะ มาร์ค รัชดา แอร์พอร์ตลิ้งค์\n",
      "ไลฟ์ อโศก พระราม 9\n"
     ]
    }
   ],
   "source": [
    "for i in title :\n",
    "    i = str(i).split('<div class=\"Rental_card__content_head__text__CWkji\"><strong class=\"Rental_card__name__JhnRh\">')[1]\n",
    "    i = str(i).split('</strong>')[0]\n",
    " \n",
    "    print(i)\n",
    "    Title_list.append(i)   "
   ]
  },
  {
   "cell_type": "code",
   "execution_count": 8,
   "id": "327c6d2c",
   "metadata": {},
   "outputs": [],
   "source": [
    "location = soup.find_all('p',{'class':'Rental_card__address__3H8NF'})"
   ]
  },
  {
   "cell_type": "code",
   "execution_count": 9,
   "id": "7f0483cf",
   "metadata": {},
   "outputs": [
    {
     "name": "stdout",
     "output_type": "stream",
     "text": [
      "พระราม 9, กรุงเทพ\n",
      "พญาไท, กรุงเทพ\n",
      "พระราม 9, กรุงเทพ\n",
      "พระราม 9, กรุงเทพ\n",
      "พระราม 9, กรุงเทพ\n",
      "พระราม 9, กรุงเทพ\n",
      "พระราม 9, กรุงเทพ\n",
      "พระราม 9, กรุงเทพ\n",
      "ราชปรารภ, กรุงเทพ\n",
      "เพชรรามา, กรุงเทพ\n",
      "พระราม 9, กรุงเทพ\n",
      "เพชรรามา, กรุงเทพ\n",
      "อนุสาวรีย์ชัยสมรภูมิ, กรุงเทพ\n",
      "ราชเทวี, กรุงเทพ\n",
      "ทุ่งพญาไท, กรุงเทพ\n",
      "ราชเทวี, กรุงเทพ\n",
      "พระราม 9, กรุงเทพ\n",
      "พระราม 9, กรุงเทพ\n",
      "พระราม 9, กรุงเทพ\n",
      "พระราม 9, กรุงเทพ\n"
     ]
    }
   ],
   "source": [
    "for i in location :\n",
    "    i = str(i).split('<p class=\"Rental_card__address__3H8NF\">')[1]\n",
    "    i = str(i).split('</p>')[0]\n",
    "   \n",
    "    print(i)\n",
    "    Location_list.append(i)"
   ]
  },
  {
   "cell_type": "code",
   "execution_count": 10,
   "id": "a96a0782",
   "metadata": {},
   "outputs": [],
   "source": [
    "price = soup.find_all('div',{'class':'Rental_listing_price__lF63h'})"
   ]
  },
  {
   "cell_type": "code",
   "execution_count": 11,
   "id": "77ee2cff",
   "metadata": {},
   "outputs": [
    {
     "name": "stdout",
     "output_type": "stream",
     "text": [
      "2,000,000\n",
      "2,200,000\n",
      "2,200,000\n",
      "2,390,000\n",
      "2,400,000\n",
      "2,490,000\n",
      "2,490,000\n",
      "2,500,000\n",
      "2,500,000\n",
      "2,590,000\n",
      "2,600,000\n",
      "2,700,000\n",
      "2,700,000\n",
      "2,790,000\n",
      "2,790,000\n",
      "2,800,000\n",
      "2,800,000\n",
      "2,900,000\n",
      "2,900,000\n",
      "2,900,000\n"
     ]
    }
   ],
   "source": [
    "for i in price :\n",
    "   \n",
    "    \n",
    "    i = str(i).split('<div class=\"Rental_listing_price__lF63h\"><b class=\"Rental_card__content__price___TNdk\" data-testid=\"listing-sales-price\">')[1]\n",
    "    \n",
    "    i = str(i).split('</b></div>')[0]\n",
    "    i = i.split('฿')[1]\n",
    "    \n",
    "   \n",
    "  \n",
    "    print(i)\n",
    "    \n",
    "    Price_list.append(i)"
   ]
  },
  {
   "cell_type": "code",
   "execution_count": 12,
   "id": "400cb241",
   "metadata": {},
   "outputs": [
    {
     "data": {
      "text/html": [
       "<div>\n",
       "<style scoped>\n",
       "    .dataframe tbody tr th:only-of-type {\n",
       "        vertical-align: middle;\n",
       "    }\n",
       "\n",
       "    .dataframe tbody tr th {\n",
       "        vertical-align: top;\n",
       "    }\n",
       "\n",
       "    .dataframe thead th {\n",
       "        text-align: right;\n",
       "    }\n",
       "</style>\n",
       "<table border=\"1\" class=\"dataframe\">\n",
       "  <thead>\n",
       "    <tr style=\"text-align: right;\">\n",
       "      <th></th>\n",
       "      <th>Title</th>\n",
       "      <th>Location</th>\n",
       "      <th>Price</th>\n",
       "    </tr>\n",
       "  </thead>\n",
       "  <tbody>\n",
       "    <tr>\n",
       "      <th>0</th>\n",
       "      <td>เดอะ มาร์ค รัชดา แอร์พอร์ตลิ้งค์</td>\n",
       "      <td>พระราม 9, กรุงเทพ</td>\n",
       "      <td>2,000,000</td>\n",
       "    </tr>\n",
       "    <tr>\n",
       "      <th>1</th>\n",
       "      <td>คอนโด 1 นอน ห้องใหญ่ ใกล้ BTS พญาไท</td>\n",
       "      <td>พญาไท, กรุงเทพ</td>\n",
       "      <td>2,200,000</td>\n",
       "    </tr>\n",
       "    <tr>\n",
       "      <th>2</th>\n",
       "      <td>เดอะ มาร์ค รัชดา แอร์พอร์ตลิ้งค์</td>\n",
       "      <td>พระราม 9, กรุงเทพ</td>\n",
       "      <td>2,200,000</td>\n",
       "    </tr>\n",
       "    <tr>\n",
       "      <th>3</th>\n",
       "      <td>เดอะ มาร์ค รัชดา แอร์พอร์ตลิ้งค์</td>\n",
       "      <td>พระราม 9, กรุงเทพ</td>\n",
       "      <td>2,390,000</td>\n",
       "    </tr>\n",
       "    <tr>\n",
       "      <th>4</th>\n",
       "      <td>คอนโด 2 นอน ห้องสวย ใกล้ BTS นานา ขั้นต่ำ 6 ด</td>\n",
       "      <td>พระราม 9, กรุงเทพ</td>\n",
       "      <td>2,400,000</td>\n",
       "    </tr>\n",
       "    <tr>\n",
       "      <th>5</th>\n",
       "      <td>เดอะ มาร์ค รัชดา แอร์พอร์ตลิ้งค์</td>\n",
       "      <td>พระราม 9, กรุงเทพ</td>\n",
       "      <td>2,490,000</td>\n",
       "    </tr>\n",
       "    <tr>\n",
       "      <th>6</th>\n",
       "      <td>เดอะ มาร์ค รัชดา แอร์พอร์ตลิ้งค์</td>\n",
       "      <td>พระราม 9, กรุงเทพ</td>\n",
       "      <td>2,490,000</td>\n",
       "    </tr>\n",
       "    <tr>\n",
       "      <th>7</th>\n",
       "      <td>เดอะ มาร์ค รัชดา แอร์พอร์ตลิ้งค์</td>\n",
       "      <td>พระราม 9, กรุงเทพ</td>\n",
       "      <td>2,500,000</td>\n",
       "    </tr>\n",
       "    <tr>\n",
       "      <th>8</th>\n",
       "      <td>เดอะ คอมพลีท ราชปรารภ</td>\n",
       "      <td>ราชปรารภ, กรุงเทพ</td>\n",
       "      <td>2,500,000</td>\n",
       "    </tr>\n",
       "    <tr>\n",
       "      <th>9</th>\n",
       "      <td>วิช ซิกเนเจอร์ มิดทาวน์ สยาม</td>\n",
       "      <td>เพชรรามา, กรุงเทพ</td>\n",
       "      <td>2,590,000</td>\n",
       "    </tr>\n",
       "    <tr>\n",
       "      <th>10</th>\n",
       "      <td>เดอะ มาร์ค รัชดา แอร์พอร์ตลิ้งค์</td>\n",
       "      <td>พระราม 9, กรุงเทพ</td>\n",
       "      <td>2,600,000</td>\n",
       "    </tr>\n",
       "    <tr>\n",
       "      <th>11</th>\n",
       "      <td>บ้าน 3 นอน ห้องกว้าง ใกล้ BTS พญาไท</td>\n",
       "      <td>เพชรรามา, กรุงเทพ</td>\n",
       "      <td>2,700,000</td>\n",
       "    </tr>\n",
       "    <tr>\n",
       "      <th>12</th>\n",
       "      <td>ราชวิถี ซิตี้ รีสอร์ท คอนโดมิเนียม</td>\n",
       "      <td>อนุสาวรีย์ชัยสมรภูมิ, กรุงเทพ</td>\n",
       "      <td>2,700,000</td>\n",
       "    </tr>\n",
       "    <tr>\n",
       "      <th>13</th>\n",
       "      <td>วิช แอท สยาม คอนโดมิเนียม</td>\n",
       "      <td>ราชเทวี, กรุงเทพ</td>\n",
       "      <td>2,790,000</td>\n",
       "    </tr>\n",
       "    <tr>\n",
       "      <th>14</th>\n",
       "      <td>บ้าน 3 นอน ตกแต่งสวย ใกล้ BTS ราชเทวี</td>\n",
       "      <td>ทุ่งพญาไท, กรุงเทพ</td>\n",
       "      <td>2,790,000</td>\n",
       "    </tr>\n",
       "    <tr>\n",
       "      <th>15</th>\n",
       "      <td>วิช แอท สยาม คอนโดมิเนียม</td>\n",
       "      <td>ราชเทวี, กรุงเทพ</td>\n",
       "      <td>2,800,000</td>\n",
       "    </tr>\n",
       "    <tr>\n",
       "      <th>16</th>\n",
       "      <td>ริทึ่ม อโศก</td>\n",
       "      <td>พระราม 9, กรุงเทพ</td>\n",
       "      <td>2,800,000</td>\n",
       "    </tr>\n",
       "    <tr>\n",
       "      <th>17</th>\n",
       "      <td>ไลฟ์ อโศก พระราม 9</td>\n",
       "      <td>พระราม 9, กรุงเทพ</td>\n",
       "      <td>2,900,000</td>\n",
       "    </tr>\n",
       "    <tr>\n",
       "      <th>18</th>\n",
       "      <td>เดอะ มาร์ค รัชดา แอร์พอร์ตลิ้งค์</td>\n",
       "      <td>พระราม 9, กรุงเทพ</td>\n",
       "      <td>2,900,000</td>\n",
       "    </tr>\n",
       "    <tr>\n",
       "      <th>19</th>\n",
       "      <td>ไลฟ์ อโศก พระราม 9</td>\n",
       "      <td>พระราม 9, กรุงเทพ</td>\n",
       "      <td>2,900,000</td>\n",
       "    </tr>\n",
       "  </tbody>\n",
       "</table>\n",
       "</div>"
      ],
      "text/plain": [
       "                                            Title  \\\n",
       "0                เดอะ มาร์ค รัชดา แอร์พอร์ตลิ้งค์   \n",
       "1             คอนโด 1 นอน ห้องใหญ่ ใกล้ BTS พญาไท   \n",
       "2                เดอะ มาร์ค รัชดา แอร์พอร์ตลิ้งค์   \n",
       "3                เดอะ มาร์ค รัชดา แอร์พอร์ตลิ้งค์   \n",
       "4   คอนโด 2 นอน ห้องสวย ใกล้ BTS นานา ขั้นต่ำ 6 ด   \n",
       "5                เดอะ มาร์ค รัชดา แอร์พอร์ตลิ้งค์   \n",
       "6                เดอะ มาร์ค รัชดา แอร์พอร์ตลิ้งค์   \n",
       "7                เดอะ มาร์ค รัชดา แอร์พอร์ตลิ้งค์   \n",
       "8                           เดอะ คอมพลีท ราชปรารภ   \n",
       "9                    วิช ซิกเนเจอร์ มิดทาวน์ สยาม   \n",
       "10               เดอะ มาร์ค รัชดา แอร์พอร์ตลิ้งค์   \n",
       "11            บ้าน 3 นอน ห้องกว้าง ใกล้ BTS พญาไท   \n",
       "12             ราชวิถี ซิตี้ รีสอร์ท คอนโดมิเนียม   \n",
       "13                      วิช แอท สยาม คอนโดมิเนียม   \n",
       "14          บ้าน 3 นอน ตกแต่งสวย ใกล้ BTS ราชเทวี   \n",
       "15                      วิช แอท สยาม คอนโดมิเนียม   \n",
       "16                                    ริทึ่ม อโศก   \n",
       "17                             ไลฟ์ อโศก พระราม 9   \n",
       "18               เดอะ มาร์ค รัชดา แอร์พอร์ตลิ้งค์   \n",
       "19                             ไลฟ์ อโศก พระราม 9   \n",
       "\n",
       "                         Location      Price  \n",
       "0               พระราม 9, กรุงเทพ  2,000,000  \n",
       "1                  พญาไท, กรุงเทพ  2,200,000  \n",
       "2               พระราม 9, กรุงเทพ  2,200,000  \n",
       "3               พระราม 9, กรุงเทพ  2,390,000  \n",
       "4               พระราม 9, กรุงเทพ  2,400,000  \n",
       "5               พระราม 9, กรุงเทพ  2,490,000  \n",
       "6               พระราม 9, กรุงเทพ  2,490,000  \n",
       "7               พระราม 9, กรุงเทพ  2,500,000  \n",
       "8               ราชปรารภ, กรุงเทพ  2,500,000  \n",
       "9               เพชรรามา, กรุงเทพ  2,590,000  \n",
       "10              พระราม 9, กรุงเทพ  2,600,000  \n",
       "11              เพชรรามา, กรุงเทพ  2,700,000  \n",
       "12  อนุสาวรีย์ชัยสมรภูมิ, กรุงเทพ  2,700,000  \n",
       "13               ราชเทวี, กรุงเทพ  2,790,000  \n",
       "14             ทุ่งพญาไท, กรุงเทพ  2,790,000  \n",
       "15               ราชเทวี, กรุงเทพ  2,800,000  \n",
       "16              พระราม 9, กรุงเทพ  2,800,000  \n",
       "17              พระราม 9, กรุงเทพ  2,900,000  \n",
       "18              พระราม 9, กรุงเทพ  2,900,000  \n",
       "19              พระราม 9, กรุงเทพ  2,900,000  "
      ]
     },
     "execution_count": 12,
     "metadata": {},
     "output_type": "execute_result"
    }
   ],
   "source": [
    "table = pd.DataFrame([ Title_list , Location_list, Price_list, ]).transpose()\n",
    "\n",
    "table.columns = (['Title', 'Location','Price'])\n",
    "table"
   ]
  },
  {
   "cell_type": "code",
   "execution_count": 13,
   "id": "250d71a6",
   "metadata": {},
   "outputs": [
    {
     "name": "stdout",
     "output_type": "stream",
     "text": [
      "<class 'pandas.core.frame.DataFrame'>\n",
      "RangeIndex: 20 entries, 0 to 19\n",
      "Data columns (total 3 columns):\n",
      " #   Column    Non-Null Count  Dtype \n",
      "---  ------    --------------  ----- \n",
      " 0   Title     20 non-null     object\n",
      " 1   Location  20 non-null     object\n",
      " 2   Price     20 non-null     object\n",
      "dtypes: object(3)\n",
      "memory usage: 608.0+ bytes\n"
     ]
    }
   ],
   "source": [
    "table.info()\n"
   ]
  },
  {
   "cell_type": "code",
   "execution_count": 14,
   "id": "4a03c4e0",
   "metadata": {},
   "outputs": [
    {
     "name": "stdout",
     "output_type": "stream",
     "text": [
      "<class 'pandas.core.frame.DataFrame'>\n",
      "RangeIndex: 20 entries, 0 to 19\n",
      "Data columns (total 3 columns):\n",
      " #   Column    Non-Null Count  Dtype \n",
      "---  ------    --------------  ----- \n",
      " 0   Title     20 non-null     object\n",
      " 1   Location  20 non-null     object\n",
      " 2   Price     20 non-null     object\n",
      "dtypes: object(3)\n",
      "memory usage: 608.0+ bytes\n"
     ]
    }
   ],
   "source": [
    "\n",
    "table['Title'] = table['Title'].astype(str)\n",
    "table['Location'] = table['Location'].astype(str)\n",
    "table['Price'] = table['Price'].astype(str)\n",
    "\n",
    "table.info()"
   ]
  },
  {
   "cell_type": "markdown",
   "id": "517ca839-691b-4eb4-ad8c-09037cd83e1b",
   "metadata": {},
   "source": [
    "### Export Pandas to CSV"
   ]
  },
  {
   "cell_type": "code",
   "execution_count": 15,
   "id": "ee602d68",
   "metadata": {},
   "outputs": [],
   "source": [
    "table.to_csv(\"Scraping_week4_.csv\", index=False)"
   ]
  },
  {
   "cell_type": "markdown",
   "id": "30e6644f-2c36-48dd-a0e1-10d5a295391b",
   "metadata": {},
   "source": [
    "## Upload data to DataPlatform"
   ]
  },
  {
   "cell_type": "code",
   "execution_count": 16,
   "id": "47fe0f3f",
   "metadata": {},
   "outputs": [],
   "source": [
    "from dsmlibrary.datanode import DataNode\n"
   ]
  },
  {
   "cell_type": "code",
   "execution_count": 17,
   "id": "3bcf8cca",
   "metadata": {},
   "outputs": [],
   "source": [
    "dir_raw_id = 118\n"
   ]
  },
  {
   "cell_type": "code",
   "execution_count": 18,
   "id": "17f0837d",
   "metadata": {},
   "outputs": [
    {
     "name": "stdout",
     "output_type": "stream",
     "text": [
      "Init DataNode sucessful!\n"
     ]
    }
   ],
   "source": [
    "datanode = DataNode()\n"
   ]
  },
  {
   "cell_type": "markdown",
   "id": "1ec9ee98-15d8-4d3c-bc5d-a7ef50be8c4f",
   "metadata": {},
   "source": [
    "## Read stored data from DataPlatform"
   ]
  },
  {
   "cell_type": "code",
   "execution_count": 19,
   "id": "69762ecc",
   "metadata": {},
   "outputs": [],
   "source": [
    "from dsmlibrary.datanode import DataNode\n",
    "import json\n",
    "from tqdm.auto import tqdm\n",
    "import pandas as pd"
   ]
  },
  {
   "cell_type": "code",
   "execution_count": 20,
   "id": "84dff0c7",
   "metadata": {},
   "outputs": [],
   "source": [
    "dir_raw_id = 118\n",
    "dir_process_id = 120"
   ]
  },
  {
   "cell_type": "code",
   "execution_count": 21,
   "id": "01d44a99",
   "metadata": {},
   "outputs": [
    {
     "name": "stdout",
     "output_type": "stream",
     "text": [
      "Init DataNode sucessful!\n"
     ]
    }
   ],
   "source": [
    "datanode = DataNode()"
   ]
  },
  {
   "cell_type": "code",
   "execution_count": 22,
   "id": "b9fa8512",
   "metadata": {},
   "outputs": [
    {
     "name": "stdin",
     "output_type": "stream",
     "text": [
      "File Scraping_week4_.csv alrady exists, do you want to replace y/n :  y\n"
     ]
    },
    {
     "data": {
      "application/vnd.jupyter.widget-view+json": {
       "model_id": "ec098d6fe4fc4b0ea40fe09a42ccc144",
       "version_major": 2,
       "version_minor": 0
      },
      "text/plain": [
       "  0%|          | 0.00/2.77k [00:00<?, ?B/s]"
      ]
     },
     "metadata": {},
     "output_type": "display_data"
    },
    {
     "data": {
      "text/plain": [
       "{'id': 866,\n",
       " 'msg': 'file Scraping_week4_.csv create sucessful',\n",
       " 'path': 'khatcha/DSI310-21/raw/Scraping_week4_.csv',\n",
       " 'uploaded': True}"
      ]
     },
     "execution_count": 22,
     "metadata": {},
     "output_type": "execute_result"
    }
   ],
   "source": [
    "datanode.upload_file(directory_id=dir_raw_id, file_path='Scraping_week4_.csv')"
   ]
  },
  {
   "cell_type": "code",
   "execution_count": 24,
   "id": "ae701d64",
   "metadata": {},
   "outputs": [
    {
     "data": {
      "text/plain": [
       "{'owner': 'khatcha',\n",
       " 'human_size': '2.84 KB',\n",
       " 'name': 'Scraping_week4_.csv',\n",
       " 'description': 'file Scraping_week4_.csv',\n",
       " 'directory': 118,\n",
       " 'path': 'khatcha/DSI310-21/raw/Scraping_week4_.csv'}"
      ]
     },
     "execution_count": 24,
     "metadata": {},
     "output_type": "execute_result"
    }
   ],
   "source": [
    "meta, fp = datanode.get_file(datanode.get_file_id(directory_id=dir_raw_id, name='Scraping_week4_.csv'))\n",
    "meta"
   ]
  },
  {
   "cell_type": "code",
   "execution_count": 25,
   "id": "289c18de-8435-4de2-94f9-108860b3a64d",
   "metadata": {},
   "outputs": [
    {
     "data": {
      "text/html": [
       "<div>\n",
       "<style scoped>\n",
       "    .dataframe tbody tr th:only-of-type {\n",
       "        vertical-align: middle;\n",
       "    }\n",
       "\n",
       "    .dataframe tbody tr th {\n",
       "        vertical-align: top;\n",
       "    }\n",
       "\n",
       "    .dataframe thead th {\n",
       "        text-align: right;\n",
       "    }\n",
       "</style>\n",
       "<table border=\"1\" class=\"dataframe\">\n",
       "  <thead>\n",
       "    <tr style=\"text-align: right;\">\n",
       "      <th></th>\n",
       "      <th>Title</th>\n",
       "      <th>Location</th>\n",
       "      <th>Price</th>\n",
       "    </tr>\n",
       "  </thead>\n",
       "  <tbody>\n",
       "    <tr>\n",
       "      <th>0</th>\n",
       "      <td>เดอะ มาร์ค รัชดา แอร์พอร์ตลิ้งค์</td>\n",
       "      <td>พระราม 9, กรุงเทพ</td>\n",
       "      <td>2,000,000</td>\n",
       "    </tr>\n",
       "    <tr>\n",
       "      <th>1</th>\n",
       "      <td>คอนโด 1 นอน ห้องใหญ่ ใกล้ BTS พญาไท</td>\n",
       "      <td>พญาไท, กรุงเทพ</td>\n",
       "      <td>2,200,000</td>\n",
       "    </tr>\n",
       "    <tr>\n",
       "      <th>2</th>\n",
       "      <td>เดอะ มาร์ค รัชดา แอร์พอร์ตลิ้งค์</td>\n",
       "      <td>พระราม 9, กรุงเทพ</td>\n",
       "      <td>2,200,000</td>\n",
       "    </tr>\n",
       "    <tr>\n",
       "      <th>3</th>\n",
       "      <td>เดอะ มาร์ค รัชดา แอร์พอร์ตลิ้งค์</td>\n",
       "      <td>พระราม 9, กรุงเทพ</td>\n",
       "      <td>2,390,000</td>\n",
       "    </tr>\n",
       "    <tr>\n",
       "      <th>4</th>\n",
       "      <td>คอนโด 2 นอน ห้องสวย ใกล้ BTS นานา ขั้นต่ำ 6 ด</td>\n",
       "      <td>พระราม 9, กรุงเทพ</td>\n",
       "      <td>2,400,000</td>\n",
       "    </tr>\n",
       "    <tr>\n",
       "      <th>5</th>\n",
       "      <td>เดอะ มาร์ค รัชดา แอร์พอร์ตลิ้งค์</td>\n",
       "      <td>พระราม 9, กรุงเทพ</td>\n",
       "      <td>2,490,000</td>\n",
       "    </tr>\n",
       "    <tr>\n",
       "      <th>6</th>\n",
       "      <td>เดอะ มาร์ค รัชดา แอร์พอร์ตลิ้งค์</td>\n",
       "      <td>พระราม 9, กรุงเทพ</td>\n",
       "      <td>2,490,000</td>\n",
       "    </tr>\n",
       "    <tr>\n",
       "      <th>7</th>\n",
       "      <td>เดอะ มาร์ค รัชดา แอร์พอร์ตลิ้งค์</td>\n",
       "      <td>พระราม 9, กรุงเทพ</td>\n",
       "      <td>2,500,000</td>\n",
       "    </tr>\n",
       "    <tr>\n",
       "      <th>8</th>\n",
       "      <td>เดอะ คอมพลีท ราชปรารภ</td>\n",
       "      <td>ราชปรารภ, กรุงเทพ</td>\n",
       "      <td>2,500,000</td>\n",
       "    </tr>\n",
       "    <tr>\n",
       "      <th>9</th>\n",
       "      <td>วิช ซิกเนเจอร์ มิดทาวน์ สยาม</td>\n",
       "      <td>เพชรรามา, กรุงเทพ</td>\n",
       "      <td>2,590,000</td>\n",
       "    </tr>\n",
       "    <tr>\n",
       "      <th>10</th>\n",
       "      <td>เดอะ มาร์ค รัชดา แอร์พอร์ตลิ้งค์</td>\n",
       "      <td>พระราม 9, กรุงเทพ</td>\n",
       "      <td>2,600,000</td>\n",
       "    </tr>\n",
       "    <tr>\n",
       "      <th>11</th>\n",
       "      <td>บ้าน 3 นอน ห้องกว้าง ใกล้ BTS พญาไท</td>\n",
       "      <td>เพชรรามา, กรุงเทพ</td>\n",
       "      <td>2,700,000</td>\n",
       "    </tr>\n",
       "    <tr>\n",
       "      <th>12</th>\n",
       "      <td>ราชวิถี ซิตี้ รีสอร์ท คอนโดมิเนียม</td>\n",
       "      <td>อนุสาวรีย์ชัยสมรภูมิ, กรุงเทพ</td>\n",
       "      <td>2,700,000</td>\n",
       "    </tr>\n",
       "    <tr>\n",
       "      <th>13</th>\n",
       "      <td>วิช แอท สยาม คอนโดมิเนียม</td>\n",
       "      <td>ราชเทวี, กรุงเทพ</td>\n",
       "      <td>2,790,000</td>\n",
       "    </tr>\n",
       "    <tr>\n",
       "      <th>14</th>\n",
       "      <td>บ้าน 3 นอน ตกแต่งสวย ใกล้ BTS ราชเทวี</td>\n",
       "      <td>ทุ่งพญาไท, กรุงเทพ</td>\n",
       "      <td>2,790,000</td>\n",
       "    </tr>\n",
       "    <tr>\n",
       "      <th>15</th>\n",
       "      <td>วิช แอท สยาม คอนโดมิเนียม</td>\n",
       "      <td>ราชเทวี, กรุงเทพ</td>\n",
       "      <td>2,800,000</td>\n",
       "    </tr>\n",
       "    <tr>\n",
       "      <th>16</th>\n",
       "      <td>ริทึ่ม อโศก</td>\n",
       "      <td>พระราม 9, กรุงเทพ</td>\n",
       "      <td>2,800,000</td>\n",
       "    </tr>\n",
       "    <tr>\n",
       "      <th>17</th>\n",
       "      <td>ไลฟ์ อโศก พระราม 9</td>\n",
       "      <td>พระราม 9, กรุงเทพ</td>\n",
       "      <td>2,900,000</td>\n",
       "    </tr>\n",
       "    <tr>\n",
       "      <th>18</th>\n",
       "      <td>เดอะ มาร์ค รัชดา แอร์พอร์ตลิ้งค์</td>\n",
       "      <td>พระราม 9, กรุงเทพ</td>\n",
       "      <td>2,900,000</td>\n",
       "    </tr>\n",
       "    <tr>\n",
       "      <th>19</th>\n",
       "      <td>ไลฟ์ อโศก พระราม 9</td>\n",
       "      <td>พระราม 9, กรุงเทพ</td>\n",
       "      <td>2,900,000</td>\n",
       "    </tr>\n",
       "  </tbody>\n",
       "</table>\n",
       "</div>"
      ],
      "text/plain": [
       "                                            Title  \\\n",
       "0                เดอะ มาร์ค รัชดา แอร์พอร์ตลิ้งค์   \n",
       "1             คอนโด 1 นอน ห้องใหญ่ ใกล้ BTS พญาไท   \n",
       "2                เดอะ มาร์ค รัชดา แอร์พอร์ตลิ้งค์   \n",
       "3                เดอะ มาร์ค รัชดา แอร์พอร์ตลิ้งค์   \n",
       "4   คอนโด 2 นอน ห้องสวย ใกล้ BTS นานา ขั้นต่ำ 6 ด   \n",
       "5                เดอะ มาร์ค รัชดา แอร์พอร์ตลิ้งค์   \n",
       "6                เดอะ มาร์ค รัชดา แอร์พอร์ตลิ้งค์   \n",
       "7                เดอะ มาร์ค รัชดา แอร์พอร์ตลิ้งค์   \n",
       "8                           เดอะ คอมพลีท ราชปรารภ   \n",
       "9                    วิช ซิกเนเจอร์ มิดทาวน์ สยาม   \n",
       "10               เดอะ มาร์ค รัชดา แอร์พอร์ตลิ้งค์   \n",
       "11            บ้าน 3 นอน ห้องกว้าง ใกล้ BTS พญาไท   \n",
       "12             ราชวิถี ซิตี้ รีสอร์ท คอนโดมิเนียม   \n",
       "13                      วิช แอท สยาม คอนโดมิเนียม   \n",
       "14          บ้าน 3 นอน ตกแต่งสวย ใกล้ BTS ราชเทวี   \n",
       "15                      วิช แอท สยาม คอนโดมิเนียม   \n",
       "16                                    ริทึ่ม อโศก   \n",
       "17                             ไลฟ์ อโศก พระราม 9   \n",
       "18               เดอะ มาร์ค รัชดา แอร์พอร์ตลิ้งค์   \n",
       "19                             ไลฟ์ อโศก พระราม 9   \n",
       "\n",
       "                         Location      Price  \n",
       "0               พระราม 9, กรุงเทพ  2,000,000  \n",
       "1                  พญาไท, กรุงเทพ  2,200,000  \n",
       "2               พระราม 9, กรุงเทพ  2,200,000  \n",
       "3               พระราม 9, กรุงเทพ  2,390,000  \n",
       "4               พระราม 9, กรุงเทพ  2,400,000  \n",
       "5               พระราม 9, กรุงเทพ  2,490,000  \n",
       "6               พระราม 9, กรุงเทพ  2,490,000  \n",
       "7               พระราม 9, กรุงเทพ  2,500,000  \n",
       "8               ราชปรารภ, กรุงเทพ  2,500,000  \n",
       "9               เพชรรามา, กรุงเทพ  2,590,000  \n",
       "10              พระราม 9, กรุงเทพ  2,600,000  \n",
       "11              เพชรรามา, กรุงเทพ  2,700,000  \n",
       "12  อนุสาวรีย์ชัยสมรภูมิ, กรุงเทพ  2,700,000  \n",
       "13               ราชเทวี, กรุงเทพ  2,790,000  \n",
       "14             ทุ่งพญาไท, กรุงเทพ  2,790,000  \n",
       "15               ราชเทวี, กรุงเทพ  2,800,000  \n",
       "16              พระราม 9, กรุงเทพ  2,800,000  \n",
       "17              พระราม 9, กรุงเทพ  2,900,000  \n",
       "18              พระราม 9, กรุงเทพ  2,900,000  \n",
       "19              พระราม 9, กรุงเทพ  2,900,000  "
      ]
     },
     "execution_count": 25,
     "metadata": {},
     "output_type": "execute_result"
    }
   ],
   "source": [
    "df= pd.read_csv('Scraping_week4_.csv')\n",
    "df"
   ]
  },
  {
   "cell_type": "markdown",
   "id": "98c2b119-1d0f-4d22-8aa3-de0b57f6b746",
   "metadata": {},
   "source": [
    "## write Datanode to DataPlatform"
   ]
  },
  {
   "cell_type": "code",
   "execution_count": 26,
   "id": "bb52f51d-8e0a-435a-8016-8101f5631301",
   "metadata": {},
   "outputs": [
    {
     "data": {
      "text/plain": [
       "{'sucess': True,\n",
       " 'file_id': 876,\n",
       " 'path': 'khatcha/DSI310-21/process/Week_04.parquet',\n",
       " 'lineage': True}"
      ]
     },
     "execution_count": 26,
     "metadata": {},
     "output_type": "execute_result"
    }
   ],
   "source": [
    "datanode.write(df=df, directory=dir_process_id, name=\"Week_04\", profiling=True, lineage=[datanode.get_file_id(directory_id=dir_raw_id, name='Scraping_week4_.csv')])"
   ]
  }
 ],
 "metadata": {
  "kernelspec": {
   "display_name": "Python 3 (ipykernel)",
   "language": "python",
   "name": "python3"
  },
  "language_info": {
   "codemirror_mode": {
    "name": "ipython",
    "version": 3
   },
   "file_extension": ".py",
   "mimetype": "text/x-python",
   "name": "python",
   "nbconvert_exporter": "python",
   "pygments_lexer": "ipython3",
   "version": "3.10.5"
  }
 },
 "nbformat": 4,
 "nbformat_minor": 5
}
