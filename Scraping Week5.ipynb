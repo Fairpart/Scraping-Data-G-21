{
 "cells": [
  {
   "cell_type": "code",
   "execution_count": 3,
   "id": "8a0719fe",
   "metadata": {},
   "outputs": [
    {
     "name": "stdout",
     "output_type": "stream",
     "text": [
      "Requirement already satisfied: selenium in c:\\users\\min\\anaconda3\\lib\\site-packages (4.6.0)\n",
      "Requirement already satisfied: urllib3[socks]~=1.26 in c:\\users\\min\\anaconda3\\lib\\site-packages (from selenium) (1.26.11)\n",
      "Requirement already satisfied: trio~=0.17 in c:\\users\\min\\anaconda3\\lib\\site-packages (from selenium) (0.22.0)\n",
      "Requirement already satisfied: certifi>=2021.10.8 in c:\\users\\min\\anaconda3\\lib\\site-packages (from selenium) (2022.9.14)\n",
      "Requirement already satisfied: trio-websocket~=0.9 in c:\\users\\min\\anaconda3\\lib\\site-packages (from selenium) (0.9.2)\n",
      "Requirement already satisfied: cffi>=1.14 in c:\\users\\min\\anaconda3\\lib\\site-packages (from trio~=0.17->selenium) (1.15.1)\n",
      "Requirement already satisfied: exceptiongroup>=1.0.0rc9 in c:\\users\\min\\anaconda3\\lib\\site-packages (from trio~=0.17->selenium) (1.0.4)\n",
      "Requirement already satisfied: sniffio in c:\\users\\min\\anaconda3\\lib\\site-packages (from trio~=0.17->selenium) (1.2.0)\n",
      "Requirement already satisfied: attrs>=19.2.0 in c:\\users\\min\\anaconda3\\lib\\site-packages (from trio~=0.17->selenium) (21.4.0)\n",
      "Requirement already satisfied: sortedcontainers in c:\\users\\min\\anaconda3\\lib\\site-packages (from trio~=0.17->selenium) (2.4.0)\n",
      "Requirement already satisfied: async-generator>=1.9 in c:\\users\\min\\anaconda3\\lib\\site-packages (from trio~=0.17->selenium) (1.10)\n",
      "Requirement already satisfied: outcome in c:\\users\\min\\anaconda3\\lib\\site-packages (from trio~=0.17->selenium) (1.2.0)\n",
      "Requirement already satisfied: idna in c:\\users\\min\\anaconda3\\lib\\site-packages (from trio~=0.17->selenium) (3.3)\n",
      "Requirement already satisfied: wsproto>=0.14 in c:\\users\\min\\anaconda3\\lib\\site-packages (from trio-websocket~=0.9->selenium) (1.2.0)\n",
      "Requirement already satisfied: PySocks!=1.5.7,<2.0,>=1.5.6 in c:\\users\\min\\anaconda3\\lib\\site-packages (from urllib3[socks]~=1.26->selenium) (1.7.1)\n",
      "Requirement already satisfied: pycparser in c:\\users\\min\\anaconda3\\lib\\site-packages (from cffi>=1.14->trio~=0.17->selenium) (2.21)\n",
      "Requirement already satisfied: h11<1,>=0.9.0 in c:\\users\\min\\anaconda3\\lib\\site-packages (from wsproto>=0.14->trio-websocket~=0.9->selenium) (0.14.0)\n"
     ]
    }
   ],
   "source": [
    "!pip install selenium"
   ]
  },
  {
   "cell_type": "code",
   "execution_count": 42,
   "id": "f06dd3d9",
   "metadata": {},
   "outputs": [],
   "source": [
    "from selenium import webdriver"
   ]
  },
  {
   "cell_type": "code",
   "execution_count": 43,
   "id": "b6d3490f",
   "metadata": {},
   "outputs": [
    {
     "name": "stderr",
     "output_type": "stream",
     "text": [
      "C:\\Users\\MIN\\AppData\\Local\\Temp\\ipykernel_31256\\3188814890.py:1: DeprecationWarning: executable_path has been deprecated, please pass in a Service object\n",
      "  driver = webdriver.Chrome(executable_path=r'C:\\Users\\MIN\\Downloads\\Scrape\\chromedriver')\n"
     ]
    }
   ],
   "source": [
    "driver = webdriver.Chrome(executable_path=r'C:\\Users\\MIN\\Downloads\\Scrape\\chromedriver')"
   ]
  },
  {
   "cell_type": "code",
   "execution_count": 44,
   "id": "7ba7bf62",
   "metadata": {},
   "outputs": [],
   "source": [
    "driver.get('https://www.wongnai.com/rankings?category=3001&region=170')"
   ]
  },
  {
   "cell_type": "code",
   "execution_count": 45,
   "id": "f5b6e7f2",
   "metadata": {},
   "outputs": [],
   "source": [
    "allow_button = driver.find_element(\"xpath\", '/html/body/div[4]/div/div[1]/div/div[2]/button[1]')"
   ]
  },
  {
   "cell_type": "code",
   "execution_count": 46,
   "id": "f73f4a63",
   "metadata": {},
   "outputs": [],
   "source": [
    "allow_button.click()"
   ]
  },
  {
   "cell_type": "code",
   "execution_count": 40,
   "id": "47c6f82d",
   "metadata": {},
   "outputs": [],
   "source": [
    "choose = driver.find_element(\"xpath\",'/html/body/div[1]/div/div/div[1]/div[3]/div[2]/div/div[2]/div[1]/div[1]/div[1]/div/div/div[2]/div[1]/div[2]/a/div/h2')"
   ]
  },
  {
   "cell_type": "code",
   "execution_count": 41,
   "id": "4f030935",
   "metadata": {},
   "outputs": [],
   "source": [
    "choose.click()"
   ]
  },
  {
   "cell_type": "code",
   "execution_count": 47,
   "id": "7e46ad43",
   "metadata": {},
   "outputs": [],
   "source": [
    "driver.execute_script(\"document.body.style.zoom='100%' \")"
   ]
  },
  {
   "cell_type": "code",
   "execution_count": 48,
   "id": "c2b30b5e",
   "metadata": {},
   "outputs": [],
   "source": [
    "data = driver.page_source"
   ]
  },
  {
   "cell_type": "code",
   "execution_count": 49,
   "id": "b1790596",
   "metadata": {},
   "outputs": [
    {
     "name": "stdout",
     "output_type": "stream",
     "text": [
      "Requirement already satisfied: bs4 in c:\\users\\min\\anaconda3\\lib\\site-packages (0.0.1)\n",
      "Requirement already satisfied: beautifulsoup4 in c:\\users\\min\\anaconda3\\lib\\site-packages (from bs4) (4.11.1)\n",
      "Requirement already satisfied: soupsieve>1.2 in c:\\users\\min\\anaconda3\\lib\\site-packages (from beautifulsoup4->bs4) (2.3.1)\n"
     ]
    }
   ],
   "source": [
    "!pip install bs4"
   ]
  },
  {
   "cell_type": "code",
   "execution_count": 50,
   "id": "462d5fda",
   "metadata": {},
   "outputs": [],
   "source": [
    "import bs4"
   ]
  },
  {
   "cell_type": "code",
   "execution_count": 51,
   "id": "a51a3c18",
   "metadata": {},
   "outputs": [],
   "source": [
    "soup = bs4.BeautifulSoup(data)"
   ]
  },
  {
   "cell_type": "code",
   "execution_count": 52,
   "id": "2652080f",
   "metadata": {
    "scrolled": true
   },
   "outputs": [],
   "source": [
    "all_hotel = soup.find_all('div',{'class':'sc-1bs98dy-2 Dtkmv'})"
   ]
  },
  {
   "cell_type": "code",
   "execution_count": 53,
   "id": "1e597be7",
   "metadata": {},
   "outputs": [
    {
     "data": {
      "text/plain": [
       "['Pullman King Power Bangkok Hotel',\n",
       " 'โรงแรมใบหยกสกาย (Baiyoke Sky Hotel)',\n",
       " 'วีโฮเต็ล (Vie Hotel Bangkok, Mgallery By Sofitel)',\n",
       " 'The Berkeley Hotel Pratunam',\n",
       " 'โรงแรมอครา กรุงเทพฯ (Akara Hotel Bangkok)',\n",
       " 'The Sukosol Bangkok (The Sukosol Bangkok)',\n",
       " 'โรงแรมเอเชีย (Asia Hotel)',\n",
       " 'สำราญเพลส (Samran Place)',\n",
       " 'อมารี วอเตอร์เกท กรุงเทพฯ (Amari Watergate Bangkok)',\n",
       " 'De Prime@Rangnam, Your Tailor Made Hotel',\n",
       " 'K Maison Boutique Hotel',\n",
       " 'โรงแรมเดอะสุโกศล (The Su Koson Hotel)',\n",
       " 'โรงแรมปิคนิค (Picnic Hotel)',\n",
       " 'Bangkok Oasis Hotel',\n",
       " 'โรงแรมเซ็นจูรี่พาร์ค (Century Park Hotel)',\n",
       " 'โมวีลอดจ์โฮสเทล (Movylodge Hostel)',\n",
       " 'Bangkok Midtown Hotel',\n",
       " 'โรงแรมบางกอกซิตี้ (Bangkok City Hotel)',\n",
       " 'โรงแรม\\u200btranz',\n",
       " 'Sukhon Hotel Bangkok']"
      ]
     },
     "execution_count": 53,
     "metadata": {},
     "output_type": "execute_result"
    }
   ],
   "source": [
    "all_hotel_list = []\n",
    "for hotel in all_hotel:\n",
    "    all_hotel_list.append(hotel.text)\n",
    "all_hotel_list"
   ]
  },
  {
   "cell_type": "code",
   "execution_count": 54,
   "id": "c01754f1",
   "metadata": {},
   "outputs": [],
   "source": [
    "all_rating = soup.find_all('div',{'class':'BadgeWrapper-sc-hfithc bTKYnn'})"
   ]
  },
  {
   "cell_type": "code",
   "execution_count": 55,
   "id": "5e0710fb",
   "metadata": {},
   "outputs": [
    {
     "data": {
      "text/plain": [
       "['4.6',\n",
       " '4.1',\n",
       " '4.5',\n",
       " '4.5',\n",
       " '4.8',\n",
       " '4.6',\n",
       " '3.6',\n",
       " '4.0',\n",
       " '4.5',\n",
       " '2.7',\n",
       " '3.0',\n",
       " '4.5',\n",
       " '3.5',\n",
       " '4.0',\n",
       " '3.6',\n",
       " '4.0',\n",
       " '2.0',\n",
       " '5.0']"
      ]
     },
     "execution_count": 55,
     "metadata": {},
     "output_type": "execute_result"
    }
   ],
   "source": [
    "all_rating_list = []\n",
    "for rating in all_rating:\n",
    "    all_rating_list.append(rating.text)\n",
    "all_rating_list"
   ]
  },
  {
   "cell_type": "code",
   "execution_count": 56,
   "id": "803e9b57",
   "metadata": {},
   "outputs": [],
   "source": [
    "all_reviews = soup.find_all('span',{'sc-1uyabda-0 iQqWsz rg12 text-gray-500'})"
   ]
  },
  {
   "cell_type": "code",
   "execution_count": 57,
   "id": "fa22984d",
   "metadata": {},
   "outputs": [
    {
     "data": {
      "text/plain": [
       "['13 รีวิว',\n",
       " '9 รีวิว',\n",
       " '5 รีวิว',\n",
       " '8 รีวิว',\n",
       " '3 รีวิว',\n",
       " '7 รีวิว',\n",
       " '3 รีวิว',\n",
       " '2 รีวิว',\n",
       " '2 รีวิว',\n",
       " '4 รีวิว',\n",
       " '1 รีวิว',\n",
       " '2 รีวิว',\n",
       " '2 รีวิว',\n",
       " '2 รีวิว',\n",
       " '2 รีวิว',\n",
       " '6 รีวิว',\n",
       " '3 รีวิว',\n",
       " '1 รีวิว',\n",
       " '1 รีวิว']"
      ]
     },
     "execution_count": 57,
     "metadata": {},
     "output_type": "execute_result"
    }
   ],
   "source": [
    "all_reviews_list = []\n",
    "for reviews in all_reviews:\n",
    "    all_reviews_list.append(reviews.text)\n",
    "all_reviews_list"
   ]
  },
  {
   "cell_type": "code",
   "execution_count": 58,
   "id": "308aee21",
   "metadata": {},
   "outputs": [],
   "source": [
    "import pandas as pd"
   ]
  },
  {
   "cell_type": "code",
   "execution_count": 59,
   "id": "95139fdb",
   "metadata": {
    "scrolled": true
   },
   "outputs": [
    {
     "data": {
      "text/html": [
       "<div>\n",
       "<style scoped>\n",
       "    .dataframe tbody tr th:only-of-type {\n",
       "        vertical-align: middle;\n",
       "    }\n",
       "\n",
       "    .dataframe tbody tr th {\n",
       "        vertical-align: top;\n",
       "    }\n",
       "\n",
       "    .dataframe thead th {\n",
       "        text-align: right;\n",
       "    }\n",
       "</style>\n",
       "<table border=\"1\" class=\"dataframe\">\n",
       "  <thead>\n",
       "    <tr style=\"text-align: right;\">\n",
       "      <th></th>\n",
       "      <th>Hotel Name</th>\n",
       "      <th>Rating</th>\n",
       "      <th>Reviews</th>\n",
       "    </tr>\n",
       "  </thead>\n",
       "  <tbody>\n",
       "    <tr>\n",
       "      <th>0</th>\n",
       "      <td>Pullman King Power Bangkok Hotel</td>\n",
       "      <td>4.6</td>\n",
       "      <td>13 รีวิว</td>\n",
       "    </tr>\n",
       "    <tr>\n",
       "      <th>1</th>\n",
       "      <td>โรงแรมใบหยกสกาย (Baiyoke Sky Hotel)</td>\n",
       "      <td>4.1</td>\n",
       "      <td>9 รีวิว</td>\n",
       "    </tr>\n",
       "    <tr>\n",
       "      <th>2</th>\n",
       "      <td>วีโฮเต็ล (Vie Hotel Bangkok, Mgallery By Sofitel)</td>\n",
       "      <td>4.5</td>\n",
       "      <td>5 รีวิว</td>\n",
       "    </tr>\n",
       "    <tr>\n",
       "      <th>3</th>\n",
       "      <td>The Berkeley Hotel Pratunam</td>\n",
       "      <td>4.5</td>\n",
       "      <td>8 รีวิว</td>\n",
       "    </tr>\n",
       "    <tr>\n",
       "      <th>4</th>\n",
       "      <td>โรงแรมอครา กรุงเทพฯ (Akara Hotel Bangkok)</td>\n",
       "      <td>4.8</td>\n",
       "      <td>3 รีวิว</td>\n",
       "    </tr>\n",
       "    <tr>\n",
       "      <th>5</th>\n",
       "      <td>The Sukosol Bangkok (The Sukosol Bangkok)</td>\n",
       "      <td>4.6</td>\n",
       "      <td>7 รีวิว</td>\n",
       "    </tr>\n",
       "    <tr>\n",
       "      <th>6</th>\n",
       "      <td>โรงแรมเอเชีย (Asia Hotel)</td>\n",
       "      <td>3.6</td>\n",
       "      <td>3 รีวิว</td>\n",
       "    </tr>\n",
       "    <tr>\n",
       "      <th>7</th>\n",
       "      <td>สำราญเพลส (Samran Place)</td>\n",
       "      <td>4.0</td>\n",
       "      <td>2 รีวิว</td>\n",
       "    </tr>\n",
       "    <tr>\n",
       "      <th>8</th>\n",
       "      <td>อมารี วอเตอร์เกท กรุงเทพฯ (Amari Watergate Ban...</td>\n",
       "      <td>4.5</td>\n",
       "      <td>2 รีวิว</td>\n",
       "    </tr>\n",
       "    <tr>\n",
       "      <th>9</th>\n",
       "      <td>De Prime@Rangnam, Your Tailor Made Hotel</td>\n",
       "      <td>2.7</td>\n",
       "      <td>4 รีวิว</td>\n",
       "    </tr>\n",
       "    <tr>\n",
       "      <th>10</th>\n",
       "      <td>K Maison Boutique Hotel</td>\n",
       "      <td>3.0</td>\n",
       "      <td>1 รีวิว</td>\n",
       "    </tr>\n",
       "    <tr>\n",
       "      <th>11</th>\n",
       "      <td>โรงแรมเดอะสุโกศล (The Su Koson Hotel)</td>\n",
       "      <td>4.5</td>\n",
       "      <td>2 รีวิว</td>\n",
       "    </tr>\n",
       "    <tr>\n",
       "      <th>12</th>\n",
       "      <td>โรงแรมปิคนิค (Picnic Hotel)</td>\n",
       "      <td>3.5</td>\n",
       "      <td>2 รีวิว</td>\n",
       "    </tr>\n",
       "    <tr>\n",
       "      <th>13</th>\n",
       "      <td>Bangkok Oasis Hotel</td>\n",
       "      <td>4.0</td>\n",
       "      <td>2 รีวิว</td>\n",
       "    </tr>\n",
       "    <tr>\n",
       "      <th>14</th>\n",
       "      <td>โรงแรมเซ็นจูรี่พาร์ค (Century Park Hotel)</td>\n",
       "      <td>3.6</td>\n",
       "      <td>2 รีวิว</td>\n",
       "    </tr>\n",
       "    <tr>\n",
       "      <th>15</th>\n",
       "      <td>โมวีลอดจ์โฮสเทล (Movylodge Hostel)</td>\n",
       "      <td>4.0</td>\n",
       "      <td>6 รีวิว</td>\n",
       "    </tr>\n",
       "    <tr>\n",
       "      <th>16</th>\n",
       "      <td>Bangkok Midtown Hotel</td>\n",
       "      <td>2.0</td>\n",
       "      <td>3 รีวิว</td>\n",
       "    </tr>\n",
       "    <tr>\n",
       "      <th>17</th>\n",
       "      <td>โรงแรมบางกอกซิตี้ (Bangkok City Hotel)</td>\n",
       "      <td>5.0</td>\n",
       "      <td>1 รีวิว</td>\n",
       "    </tr>\n",
       "    <tr>\n",
       "      <th>18</th>\n",
       "      <td>โรงแรม​tranz</td>\n",
       "      <td>None</td>\n",
       "      <td>1 รีวิว</td>\n",
       "    </tr>\n",
       "    <tr>\n",
       "      <th>19</th>\n",
       "      <td>Sukhon Hotel Bangkok</td>\n",
       "      <td>None</td>\n",
       "      <td>None</td>\n",
       "    </tr>\n",
       "  </tbody>\n",
       "</table>\n",
       "</div>"
      ],
      "text/plain": [
       "                                           Hotel Name Rating   Reviews\n",
       "0                    Pullman King Power Bangkok Hotel    4.6  13 รีวิว\n",
       "1                 โรงแรมใบหยกสกาย (Baiyoke Sky Hotel)    4.1   9 รีวิว\n",
       "2   วีโฮเต็ล (Vie Hotel Bangkok, Mgallery By Sofitel)    4.5   5 รีวิว\n",
       "3                         The Berkeley Hotel Pratunam    4.5   8 รีวิว\n",
       "4           โรงแรมอครา กรุงเทพฯ (Akara Hotel Bangkok)    4.8   3 รีวิว\n",
       "5           The Sukosol Bangkok (The Sukosol Bangkok)    4.6   7 รีวิว\n",
       "6                           โรงแรมเอเชีย (Asia Hotel)    3.6   3 รีวิว\n",
       "7                            สำราญเพลส (Samran Place)    4.0   2 รีวิว\n",
       "8   อมารี วอเตอร์เกท กรุงเทพฯ (Amari Watergate Ban...    4.5   2 รีวิว\n",
       "9            De Prime@Rangnam, Your Tailor Made Hotel    2.7   4 รีวิว\n",
       "10                            K Maison Boutique Hotel    3.0   1 รีวิว\n",
       "11              โรงแรมเดอะสุโกศล (The Su Koson Hotel)    4.5   2 รีวิว\n",
       "12                        โรงแรมปิคนิค (Picnic Hotel)    3.5   2 รีวิว\n",
       "13                                Bangkok Oasis Hotel    4.0   2 รีวิว\n",
       "14          โรงแรมเซ็นจูรี่พาร์ค (Century Park Hotel)    3.6   2 รีวิว\n",
       "15                 โมวีลอดจ์โฮสเทล (Movylodge Hostel)    4.0   6 รีวิว\n",
       "16                              Bangkok Midtown Hotel    2.0   3 รีวิว\n",
       "17             โรงแรมบางกอกซิตี้ (Bangkok City Hotel)    5.0   1 รีวิว\n",
       "18                                       โรงแรม​tranz   None   1 รีวิว\n",
       "19                               Sukhon Hotel Bangkok   None      None"
      ]
     },
     "execution_count": 59,
     "metadata": {},
     "output_type": "execute_result"
    }
   ],
   "source": [
    "Top20_Rajdheveehotel = pd.DataFrame([all_hotel_list, all_rating_list, all_reviews_list]).transpose()\n",
    "\n",
    "Top20_Rajdheveehotel.columns = (['Hotel Name', 'Rating', 'Reviews'])\n",
    "Top20_Rajdheveehotel"
   ]
  },
  {
   "cell_type": "code",
   "execution_count": 60,
   "id": "a82b481e",
   "metadata": {},
   "outputs": [
    {
     "name": "stdout",
     "output_type": "stream",
     "text": [
      "<class 'pandas.core.frame.DataFrame'>\n",
      "RangeIndex: 20 entries, 0 to 19\n",
      "Data columns (total 3 columns):\n",
      " #   Column      Non-Null Count  Dtype \n",
      "---  ------      --------------  ----- \n",
      " 0   Hotel Name  20 non-null     object\n",
      " 1   Rating      18 non-null     object\n",
      " 2   Reviews     19 non-null     object\n",
      "dtypes: object(3)\n",
      "memory usage: 608.0+ bytes\n"
     ]
    }
   ],
   "source": [
    "Top20_Rajdheveehotel.info()"
   ]
  },
  {
   "cell_type": "code",
   "execution_count": null,
   "id": "57517081-7049-4c99-82f2-d08b248d3764",
   "metadata": {},
   "outputs": [],
   "source": [
    "Top20_Rajdheveehotel['Rating'] = Top20_Rajdheveehotel['Rating'].fillna('None')\n",
    "Top20_Rajdheveehotel['Reviews'] = Top20_Rajdheveehotel['Reviews'].fillna('None')\n",
    "Top20_Rajdheveehotel.info()"
   ]
  },
  {
   "cell_type": "code",
   "execution_count": null,
   "id": "a6d670a9",
   "metadata": {},
   "outputs": [],
   "source": [
    "Top20_Rajdheveehotel.to_csv('Scraping_week5.csv', index=False)"
   ]
  },
  {
   "cell_type": "code",
   "execution_count": 62,
   "id": "d395513a",
   "metadata": {},
   "outputs": [],
   "source": [
    "Top20_Rajdheveehotel.to_excel('Scraping_week5.xlsx', encoding='utf-8')"
   ]
  }
 ],
 "metadata": {
  "kernelspec": {
   "display_name": "Python 3 (ipykernel)",
   "language": "python",
   "name": "python3"
  },
  "language_info": {
   "codemirror_mode": {
    "name": "ipython",
    "version": 3
   },
   "file_extension": ".py",
   "mimetype": "text/x-python",
   "name": "python",
   "nbconvert_exporter": "python",
   "pygments_lexer": "ipython3",
   "version": "3.10.5"
  }
 },
 "nbformat": 4,
 "nbformat_minor": 5
}
