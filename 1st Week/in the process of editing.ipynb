{
 "cells": [
  {
   "cell_type": "code",
   "execution_count": 1,
   "id": "58d6ccd2",
   "metadata": {},
   "outputs": [],
   "source": [
    "# Use List\n",
    "Name_list = list()\n",
    "Price_Per_Night_list = list()\n",
    "Total_Price_list = list()\n",
    "Rates_list = list()\n",
    "Star_list = list()\n",
    "Num_reviewer = list()\n",
    "new_Num_reviewer = list()"
   ]
  },
  {
   "cell_type": "code",
   "execution_count": 2,
   "id": "b96cf57e",
   "metadata": {},
   "outputs": [],
   "source": [
    "from bs4 import BeautifulSoup\n",
    "import requests\n",
    "\n",
    "urls = ['https://th.airbnb.com/s/BTS-~-PHAYATHAI--Samsen-Nai--Phaya-Thai--Bangkok--Thailand/homes?adults=2&refinement_paths%5B%5D=%2Fhomes&tab_id=home_tab&flexible_trip_lengths%5B%5D=one_week&price_filter_input_type=0&price_filter_num_nights=4&search_type=filter_change&room_types%5B%5D=Private%20room&l2_property_type_ids%5B%5D=1&l2_property_type_ids%5B%5D=3&l2_property_type_ids%5B%5D=4&amenities%5B%5D=4&amenities%5B%5D=5&date_picker_type=calendar&source=structured_search_input_header&min_bedrooms=1&min_beds=1&min_bathrooms=1&superhost=true&checkin=2023-04-12&checkout=2023-04-16&query=BTS%20-%20PHAYATHAI%2C%20Samsen%20Nai%2C%20Phaya%20Thai%2C%20Bangkok&place_id=ChIJN6hNkx2c4jARyNY0OlyXh84&ne_lat=13.78177222948684&ne_lng=100.57352989270504&sw_lat=13.746814142447073&sw_lng=100.52343337911799&zoom=14&search_by_map=true&pagination_search=true', \n",
    "       'https://th.airbnb.com/s/BTS-~-PHAYATHAI--Samsen-Nai--Phaya-Thai--Bangkok--Thailand/homes?adults=2&refinement_paths%5B%5D=%2Fhomes&tab_id=home_tab&flexible_trip_lengths%5B%5D=one_week&price_filter_input_type=0&price_filter_num_nights=4&search_type=filter_change&room_types%5B%5D=Private%20room&l2_property_type_ids%5B%5D=1&l2_property_type_ids%5B%5D=3&l2_property_type_ids%5B%5D=4&amenities%5B%5D=4&amenities%5B%5D=5&date_picker_type=calendar&source=structured_search_input_header&min_bedrooms=1&min_beds=1&min_bathrooms=1&superhost=true&checkin=2023-04-12&checkout=2023-04-16&query=BTS%20-%20PHAYATHAI%2C%20Samsen%20Nai%2C%20Phaya%20Thai%2C%20Bangkok&place_id=ChIJN6hNkx2c4jARyNY0OlyXh84&ne_lat=13.78177222948684&ne_lng=100.57352989270504&sw_lat=13.746814142447073&sw_lng=100.52343337911799&zoom=14&search_by_map=true&federated_search_session_id=0afaa6f6-4f5b-402f-a27e-a3bee0644cc3&pagination_search=true&items_offset=20&section_offset=2', \n",
    "       'https://th.airbnb.com/s/BTS-~-PHAYATHAI--Samsen-Nai--Phaya-Thai--Bangkok--Thailand/homes?adults=2&refinement_paths%5B%5D=%2Fhomes&tab_id=home_tab&flexible_trip_lengths%5B%5D=one_week&price_filter_input_type=0&price_filter_num_nights=4&search_type=filter_change&room_types%5B%5D=Private%20room&l2_property_type_ids%5B%5D=1&l2_property_type_ids%5B%5D=3&l2_property_type_ids%5B%5D=4&amenities%5B%5D=4&amenities%5B%5D=5&date_picker_type=calendar&source=structured_search_input_header&min_bedrooms=1&min_beds=1&min_bathrooms=1&superhost=true&checkin=2023-04-12&checkout=2023-04-16&query=BTS%20-%20PHAYATHAI%2C%20Samsen%20Nai%2C%20Phaya%20Thai%2C%20Bangkok&place_id=ChIJN6hNkx2c4jARyNY0OlyXh84&ne_lat=13.78177222948684&ne_lng=100.57352989270504&sw_lat=13.746814142447073&sw_lng=100.52343337911799&zoom=14&search_by_map=true&federated_search_session_id=0afaa6f6-4f5b-402f-a27e-a3bee0644cc3&pagination_search=true&items_offset=40&section_offset=2']\n",
    "for url in urls:\n",
    "    req = requests.get(url,'html.parsel')\n",
    "    soup = BeautifulSoup(req.text)\n",
    "    \n",
    "    for n in soup.find_all('div' ,{'class' : 't1jojoys dir dir-ltr'}):\n",
    "        x_n = n.text\n",
    "        Name_list.append(x_n)\n",
    "    for p in soup.find_all('span', {'class':'_tyxjp1'}):\n",
    "        x_p = p.text.split('$')[1]\n",
    "        Price_Per_Night_list.append(int(x_p))\n",
    "    for t in soup.find_all('div', {'class':'_tt122m'}):\n",
    "        x_t = t.text.split()[1]\n",
    "        x_t_1 = x_t.split('$')[1]\n",
    "        Total_Price_list.append(int(x_t_1))\n",
    "    for r in soup.find_all('span', {'class':'t5eq1io r4a59j5 dir dir-ltr'}):\n",
    "        x_r = r.text\n",
    "        Rates_list.append(x_r)\n",
    "for i in Rates_list:\n",
    "    rate = i.split()\n",
    "    if len(rate) == 2:\n",
    "        Star_list.append(rate[0])\n",
    "        Num_reviewer.append(rate[1])\n",
    "    else:\n",
    "        Star_list.append(str(0))\n",
    "        Num_reviewer.append(str(0))\n",
    "for i in Num_reviewer:\n",
    "    new_Num_reviewer.append(i.replace('(','').replace(')',''))"
   ]
  },
  {
   "cell_type": "code",
   "execution_count": 3,
   "id": "7f4fcf4d",
   "metadata": {},
   "outputs": [
    {
     "name": "stdout",
     "output_type": "stream",
     "text": [
      "40\n",
      "40\n",
      "40\n",
      "40\n",
      "40\n",
      "40\n",
      "40\n"
     ]
    }
   ],
   "source": [
    "print(len(Name_list))\n",
    "print(len(Price_Per_Night_list))\n",
    "print(len(Total_Price_list))\n",
    "print(len(Rates_list))\n",
    "print(len(Star_list))\n",
    "print(len(Num_reviewer))\n",
    "print(len(new_Num_reviewer))"
   ]
  },
  {
   "cell_type": "code",
   "execution_count": 13,
   "id": "082a65de",
   "metadata": {},
   "outputs": [
    {
     "name": "stdout",
     "output_type": "stream",
     "text": [
      "29\n"
     ]
    }
   ],
   "source": [
    "print(len(Name_list[0]))"
   ]
  },
  {
   "cell_type": "code",
   "execution_count": 12,
   "id": "f62d3545",
   "metadata": {},
   "outputs": [
    {
     "name": "stdout",
     "output_type": "stream",
     "text": [
      "ห้องส่วนตัวใน Khet Phaya Thai <class 'str'> 29\n",
      "ห้องส่วนตัวใน กรุงเทพ <class 'str'> 21\n",
      "ห้องส่วนตัวใน กรุงเทพ <class 'str'> 21\n",
      "ห้องส่วนตัวใน Khet Ratchathewi <class 'str'> 30\n",
      "ห้องส่วนตัวใน กรุงเทพ <class 'str'> 21\n",
      "ห้องส่วนตัวใน Din Daeng <class 'str'> 23\n",
      "ห้องส่วนตัวใน กรุงเทพ <class 'str'> 21\n",
      "ห้องส่วนตัวใน กรุงเทพ <class 'str'> 21\n",
      "ห้องพักในโรงแรมใน Khet Ratchathewi <class 'str'> 34\n",
      "ห้องส่วนตัวใน พญาไท <class 'str'> 19\n",
      "ห้องส่วนตัวใน Khet Ratchathewi <class 'str'> 30\n",
      "ห้องส่วนตัวใน Khet Phaya Thai <class 'str'> 29\n",
      "ห้องส่วนตัวใน Din Daeng <class 'str'> 23\n",
      "ห้องส่วนตัวใน พญาไท <class 'str'> 19\n",
      "ห้องส่วนตัวใน กรุงเทพ <class 'str'> 21\n",
      "ห้องส่วนตัวใน กรุงเทพ <class 'str'> 21\n",
      "ห้องพักในโรงแรมใน Khet Ratchathewi <class 'str'> 34\n",
      "ห้องพักในโรงแรมใน Khet Din Daeng <class 'str'> 32\n",
      "ห้องพักในโรงแรมใน Khet Ratchathewi <class 'str'> 34\n",
      "ห้องส่วนตัวใน กรุงเทพ <class 'str'> 21\n",
      "ห้องพักในโรงแรมใน Khet Ratchathewi <class 'str'> 34\n",
      "ห้องส่วนตัวใน กรุงเทพ <class 'str'> 21\n",
      "ห้องพักในโรงแรมใน Khet Ratchathewi <class 'str'> 34\n",
      "ห้องพักในโรงแรมใน พญาไท <class 'str'> 23\n",
      "ห้องพักในโรงแรมใน Khet Din Daeng <class 'str'> 32\n",
      "ห้องส่วนตัวใน กรุงเทพ <class 'str'> 21\n",
      "ห้องพักในโรงแรมใน Khet Din Daeng <class 'str'> 32\n",
      "ห้องส่วนตัวใน Khet Phaya Thai <class 'str'> 29\n",
      "ห้องพักในโรงแรมใน Khet Din Daeng <class 'str'> 32\n",
      "ห้องส่วนตัวใน Khet Ratchathewi <class 'str'> 30\n",
      "ห้องพักในโรงแรมใน Khet Ratchathewi <class 'str'> 34\n",
      "ห้องส่วนตัวใน กรุงเทพ <class 'str'> 21\n",
      "ห้องส่วนตัวใน Khet Din Daeng <class 'str'> 28\n",
      "ห้องส่วนตัวใน Khet Ratchathewi <class 'str'> 30\n",
      "ห้องส่วนตัวใน Khet Din Daeng <class 'str'> 28\n",
      "ห้องส่วนตัวใน Khet Ratchathewi <class 'str'> 30\n",
      "ห้องในโรงแรมใน Khet Ratchathewi <class 'str'> 31\n",
      "ห้องส่วนตัวใน Khet Ratchathewi <class 'str'> 30\n",
      "ห้องในโรงแรมใน Khet Ratchathewi <class 'str'> 31\n",
      "ห้องส่วนตัวใน กรุงเทพ <class 'str'> 21\n"
     ]
    }
   ],
   "source": [
    "for i in Name_list:\n",
    "    print(i,type(i),(len(i)))\n",
    "    "
   ]
  },
  {
   "cell_type": "markdown",
   "id": "7124774a",
   "metadata": {},
   "source": [
    "# Export to Json"
   ]
  },
  {
   "cell_type": "code",
   "execution_count": 5,
   "id": "d0ae30c6",
   "metadata": {},
   "outputs": [
    {
     "name": "stdout",
     "output_type": "stream",
     "text": [
      "<class 'list'>\n",
      "<class 'list'>\n",
      "<class 'list'>\n",
      "<class 'list'>\n",
      "<class 'list'>\n"
     ]
    }
   ],
   "source": [
    "print(type(Name_list))\n",
    "print(type(Price_Per_Night_list))\n",
    "print(type(Total_Price_list))\n",
    "print(type(Star_list))\n",
    "print(type(new_Num_reviewer))"
   ]
  },
  {
   "cell_type": "code",
   "execution_count": 6,
   "id": "80082d64",
   "metadata": {},
   "outputs": [],
   "source": [
    "import json\n",
    "\n",
    "# Data to be written\n",
    "for j in range(len(Name_list)):    \n",
    "    dictionary ={\n",
    "        \"Title\" : Name_list[j],\n",
    "        \"Price A Night\" : Price_Per_Night_list[j],\n",
    "        \"Total Bills\" : Total_Price_list[j],\n",
    "        \"Rating\" : Star_list[j],\n",
    "        \"Number 0f Reviewers\" : new_Num_reviewer[j]\n",
    "    }\n",
    "    with open(\"Scraping.json\", \"a\") as outfile:\n",
    "        json.dump(dictionary, outfile)"
   ]
  },
  {
   "cell_type": "code",
   "execution_count": 7,
   "id": "ec4f399a",
   "metadata": {},
   "outputs": [
    {
     "data": {
      "text/plain": [
       "\"import json\\n  \\n# Opening JSON file\\nf = open('Scraping.json')\\n  \\n# returns JSON object as \\n# a dictionary\\ndata = json.load(f)\\n  \\ndata\""
      ]
     },
     "execution_count": 7,
     "metadata": {},
     "output_type": "execute_result"
    }
   ],
   "source": [
    "\"\"\"import json\n",
    "  \n",
    "# Opening JSON file\n",
    "f = open('Scraping.json')\n",
    "  \n",
    "# returns JSON object as \n",
    "# a dictionary\n",
    "data = json.load(f)\n",
    "  \n",
    "data\"\"\""
   ]
  },
  {
   "cell_type": "code",
   "execution_count": null,
   "id": "7866d652",
   "metadata": {},
   "outputs": [],
   "source": []
  }
 ],
 "metadata": {
  "kernelspec": {
   "display_name": "Python 3 (ipykernel)",
   "language": "python",
   "name": "python3"
  },
  "language_info": {
   "codemirror_mode": {
    "name": "ipython",
    "version": 3
   },
   "file_extension": ".py",
   "mimetype": "text/x-python",
   "name": "python",
   "nbconvert_exporter": "python",
   "pygments_lexer": "ipython3",
   "version": "3.9.4"
  }
 },
 "nbformat": 4,
 "nbformat_minor": 5
}
